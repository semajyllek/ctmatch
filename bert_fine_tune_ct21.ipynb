{
  "cells": [
    {
      "cell_type": "markdown",
      "metadata": {
        "id": "view-in-github",
        "colab_type": "text"
      },
      "source": [
        "<a href=\"https://colab.research.google.com/github/semajyllek/ctmatch/blob/main/bert_fine_tune_ct21.ipynb\" target=\"_parent\"><img src=\"https://colab.research.google.com/assets/colab-badge.svg\" alt=\"Open In Colab\"/></a>"
      ]
    },
    {
      "cell_type": "code",
      "execution_count": null,
      "metadata": {
        "colab": {
          "base_uri": "https://localhost:8080/"
        },
        "id": "e00hAGiPoVcD",
        "outputId": "a38808da-4250-4091-8412-33d628b75577"
      },
      "outputs": [
        {
          "output_type": "stream",
          "name": "stdout",
          "text": [
            "Drive already mounted at /content/drive; to attempt to forcibly remount, call drive.mount(\"/content/drive\", force_remount=True).\n"
          ]
        }
      ],
      "source": [
        "from google.colab import drive\n",
        "drive.mount('/content/drive')"
      ]
    },
    {
      "cell_type": "code",
      "execution_count": null,
      "metadata": {
        "colab": {
          "base_uri": "https://localhost:8080/"
        },
        "id": "O2IFymbiyWDU",
        "outputId": "33548e0e-c828-4116-e723-38453e585a7b"
      },
      "outputs": [
        {
          "output_type": "stream",
          "name": "stdout",
          "text": [
            "Requirement already satisfied: transformers in /usr/local/lib/python3.7/dist-packages (4.14.0)\n",
            "Requirement already satisfied: importlib-metadata in /usr/local/lib/python3.7/dist-packages (from transformers) (4.8.2)\n",
            "Requirement already satisfied: filelock in /usr/local/lib/python3.7/dist-packages (from transformers) (3.4.0)\n",
            "Requirement already satisfied: requests in /usr/local/lib/python3.7/dist-packages (from transformers) (2.23.0)\n",
            "Requirement already satisfied: packaging>=20.0 in /usr/local/lib/python3.7/dist-packages (from transformers) (21.3)\n",
            "Requirement already satisfied: sacremoses in /usr/local/lib/python3.7/dist-packages (from transformers) (0.0.46)\n",
            "Requirement already satisfied: numpy>=1.17 in /usr/local/lib/python3.7/dist-packages (from transformers) (1.19.5)\n",
            "Requirement already satisfied: pyyaml>=5.1 in /usr/local/lib/python3.7/dist-packages (from transformers) (6.0)\n",
            "Requirement already satisfied: regex!=2019.12.17 in /usr/local/lib/python3.7/dist-packages (from transformers) (2019.12.20)\n",
            "Requirement already satisfied: huggingface-hub<1.0,>=0.1.0 in /usr/local/lib/python3.7/dist-packages (from transformers) (0.2.1)\n",
            "Requirement already satisfied: tokenizers<0.11,>=0.10.1 in /usr/local/lib/python3.7/dist-packages (from transformers) (0.10.3)\n",
            "Requirement already satisfied: tqdm>=4.27 in /usr/local/lib/python3.7/dist-packages (from transformers) (4.62.3)\n",
            "Requirement already satisfied: typing-extensions>=3.7.4.3 in /usr/local/lib/python3.7/dist-packages (from huggingface-hub<1.0,>=0.1.0->transformers) (3.10.0.2)\n",
            "Requirement already satisfied: pyparsing!=3.0.5,>=2.0.2 in /usr/local/lib/python3.7/dist-packages (from packaging>=20.0->transformers) (3.0.6)\n",
            "Requirement already satisfied: zipp>=0.5 in /usr/local/lib/python3.7/dist-packages (from importlib-metadata->transformers) (3.6.0)\n",
            "Requirement already satisfied: chardet<4,>=3.0.2 in /usr/local/lib/python3.7/dist-packages (from requests->transformers) (3.0.4)\n",
            "Requirement already satisfied: certifi>=2017.4.17 in /usr/local/lib/python3.7/dist-packages (from requests->transformers) (2021.10.8)\n",
            "Requirement already satisfied: urllib3!=1.25.0,!=1.25.1,<1.26,>=1.21.1 in /usr/local/lib/python3.7/dist-packages (from requests->transformers) (1.24.3)\n",
            "Requirement already satisfied: idna<3,>=2.5 in /usr/local/lib/python3.7/dist-packages (from requests->transformers) (2.10)\n",
            "Requirement already satisfied: joblib in /usr/local/lib/python3.7/dist-packages (from sacremoses->transformers) (1.1.0)\n",
            "Requirement already satisfied: six in /usr/local/lib/python3.7/dist-packages (from sacremoses->transformers) (1.15.0)\n",
            "Requirement already satisfied: click in /usr/local/lib/python3.7/dist-packages (from sacremoses->transformers) (7.1.2)\n",
            "Requirement already satisfied: datasets in /usr/local/lib/python3.7/dist-packages (1.16.1)\n",
            "Requirement already satisfied: pandas in /usr/local/lib/python3.7/dist-packages (from datasets) (1.1.5)\n",
            "Requirement already satisfied: dill in /usr/local/lib/python3.7/dist-packages (from datasets) (0.3.4)\n",
            "Requirement already satisfied: pyarrow!=4.0.0,>=3.0.0 in /usr/local/lib/python3.7/dist-packages (from datasets) (3.0.0)\n",
            "Requirement already satisfied: xxhash in /usr/local/lib/python3.7/dist-packages (from datasets) (2.0.2)\n",
            "Requirement already satisfied: fsspec[http]>=2021.05.0 in /usr/local/lib/python3.7/dist-packages (from datasets) (2021.11.1)\n",
            "Requirement already satisfied: huggingface-hub<1.0.0,>=0.1.0 in /usr/local/lib/python3.7/dist-packages (from datasets) (0.2.1)\n",
            "Requirement already satisfied: requests>=2.19.0 in /usr/local/lib/python3.7/dist-packages (from datasets) (2.23.0)\n",
            "Requirement already satisfied: multiprocess in /usr/local/lib/python3.7/dist-packages (from datasets) (0.70.12.2)\n",
            "Requirement already satisfied: tqdm>=4.62.1 in /usr/local/lib/python3.7/dist-packages (from datasets) (4.62.3)\n",
            "Requirement already satisfied: aiohttp in /usr/local/lib/python3.7/dist-packages (from datasets) (3.8.1)\n",
            "Requirement already satisfied: numpy>=1.17 in /usr/local/lib/python3.7/dist-packages (from datasets) (1.19.5)\n",
            "Requirement already satisfied: packaging in /usr/local/lib/python3.7/dist-packages (from datasets) (21.3)\n",
            "Requirement already satisfied: importlib-metadata in /usr/local/lib/python3.7/dist-packages (from datasets) (4.8.2)\n",
            "Requirement already satisfied: pyyaml in /usr/local/lib/python3.7/dist-packages (from huggingface-hub<1.0.0,>=0.1.0->datasets) (6.0)\n",
            "Requirement already satisfied: filelock in /usr/local/lib/python3.7/dist-packages (from huggingface-hub<1.0.0,>=0.1.0->datasets) (3.4.0)\n",
            "Requirement already satisfied: typing-extensions>=3.7.4.3 in /usr/local/lib/python3.7/dist-packages (from huggingface-hub<1.0.0,>=0.1.0->datasets) (3.10.0.2)\n",
            "Requirement already satisfied: pyparsing!=3.0.5,>=2.0.2 in /usr/local/lib/python3.7/dist-packages (from packaging->datasets) (3.0.6)\n",
            "Requirement already satisfied: urllib3!=1.25.0,!=1.25.1,<1.26,>=1.21.1 in /usr/local/lib/python3.7/dist-packages (from requests>=2.19.0->datasets) (1.24.3)\n",
            "Requirement already satisfied: chardet<4,>=3.0.2 in /usr/local/lib/python3.7/dist-packages (from requests>=2.19.0->datasets) (3.0.4)\n",
            "Requirement already satisfied: idna<3,>=2.5 in /usr/local/lib/python3.7/dist-packages (from requests>=2.19.0->datasets) (2.10)\n",
            "Requirement already satisfied: certifi>=2017.4.17 in /usr/local/lib/python3.7/dist-packages (from requests>=2.19.0->datasets) (2021.10.8)\n",
            "Requirement already satisfied: charset-normalizer<3.0,>=2.0 in /usr/local/lib/python3.7/dist-packages (from aiohttp->datasets) (2.0.8)\n",
            "Requirement already satisfied: attrs>=17.3.0 in /usr/local/lib/python3.7/dist-packages (from aiohttp->datasets) (21.2.0)\n",
            "Requirement already satisfied: frozenlist>=1.1.1 in /usr/local/lib/python3.7/dist-packages (from aiohttp->datasets) (1.2.0)\n",
            "Requirement already satisfied: aiosignal>=1.1.2 in /usr/local/lib/python3.7/dist-packages (from aiohttp->datasets) (1.2.0)\n",
            "Requirement already satisfied: async-timeout<5.0,>=4.0.0a3 in /usr/local/lib/python3.7/dist-packages (from aiohttp->datasets) (4.0.1)\n",
            "Requirement already satisfied: yarl<2.0,>=1.0 in /usr/local/lib/python3.7/dist-packages (from aiohttp->datasets) (1.7.2)\n",
            "Requirement already satisfied: multidict<7.0,>=4.5 in /usr/local/lib/python3.7/dist-packages (from aiohttp->datasets) (5.2.0)\n",
            "Requirement already satisfied: asynctest==0.13.0 in /usr/local/lib/python3.7/dist-packages (from aiohttp->datasets) (0.13.0)\n",
            "Requirement already satisfied: zipp>=0.5 in /usr/local/lib/python3.7/dist-packages (from importlib-metadata->datasets) (3.6.0)\n",
            "Requirement already satisfied: python-dateutil>=2.7.3 in /usr/local/lib/python3.7/dist-packages (from pandas->datasets) (2.8.2)\n",
            "Requirement already satisfied: pytz>=2017.2 in /usr/local/lib/python3.7/dist-packages (from pandas->datasets) (2018.9)\n",
            "Requirement already satisfied: six>=1.5 in /usr/local/lib/python3.7/dist-packages (from python-dateutil>=2.7.3->pandas->datasets) (1.15.0)\n"
          ]
        }
      ],
      "source": [
        "!pip install transformers\n",
        "!pip install datasets"
      ]
    },
    {
      "cell_type": "code",
      "execution_count": null,
      "metadata": {
        "colab": {
          "base_uri": "https://localhost:8080/"
        },
        "id": "FBChVespnLYZ",
        "outputId": "743aa161-ec0a-4527-a405-2dc42c1a9c12"
      },
      "outputs": [
        {
          "output_type": "stream",
          "name": "stdout",
          "text": [
            "Wed Dec 15 19:42:21 2021       \n",
            "+-----------------------------------------------------------------------------+\n",
            "| NVIDIA-SMI 495.44       Driver Version: 460.32.03    CUDA Version: 11.2     |\n",
            "|-------------------------------+----------------------+----------------------+\n",
            "| GPU  Name        Persistence-M| Bus-Id        Disp.A | Volatile Uncorr. ECC |\n",
            "| Fan  Temp  Perf  Pwr:Usage/Cap|         Memory-Usage | GPU-Util  Compute M. |\n",
            "|                               |                      |               MIG M. |\n",
            "|===============================+======================+======================|\n",
            "|   0  Tesla V100-SXM2...  Off  | 00000000:00:04.0 Off |                    0 |\n",
            "| N/A   32C    P0    22W / 300W |      0MiB / 16160MiB |      0%      Default |\n",
            "|                               |                      |                  N/A |\n",
            "+-------------------------------+----------------------+----------------------+\n",
            "                                                                               \n",
            "+-----------------------------------------------------------------------------+\n",
            "| Processes:                                                                  |\n",
            "|  GPU   GI   CI        PID   Type   Process name                  GPU Memory |\n",
            "|        ID   ID                                                   Usage      |\n",
            "|=============================================================================|\n",
            "|  No running processes found                                                 |\n",
            "+-----------------------------------------------------------------------------+\n"
          ]
        }
      ],
      "source": [
        "!nvidia-smi"
      ]
    },
    {
      "cell_type": "code",
      "execution_count": null,
      "metadata": {
        "id": "wq5elmmEvdDn"
      },
      "outputs": [],
      "source": [
        "from transformers import AutoTokenizer, AutoModel, Trainer, TrainingArguments, AutoModelForSequenceClassification\n",
        "from drive.MyDrive.trec21_ct_full.trec_ct.scripts.bert_fine_tune import *\n",
        "from drive.MyDrive.trec21_ct_full.trec_ct.scripts.trec21_vis import *\n",
        "from sklearn.metrics import f1_score\n",
        "from collections import defaultdict\n",
        "from datasets import load_dataset\n",
        "from numpy.linalg import norm\n",
        "from numpy import dot\n",
        "from torch import nn\n",
        "import numpy as np\n",
        "import sklearn\n",
        "import random\n",
        "import torch\n"
      ]
    },
    {
      "cell_type": "code",
      "execution_count": null,
      "metadata": {
        "colab": {
          "base_uri": "https://localhost:8080/"
        },
        "id": "RpxLd8pyySAU",
        "outputId": "6a7b18ce-a12b-4658-b074-1557963d7dc8"
      },
      "outputs": [
        {
          "output_type": "stream",
          "name": "stdout",
          "text": [
            "Rel Type Results:\n",
            "0: 2764\n",
            "1: 685\n",
            "2: 421\n",
            "20141 143\n",
            "201410 60\n",
            "201411 42\n",
            "201412 53\n",
            "201413 63\n",
            "201414 73\n",
            "201415 13\n",
            "201416 58\n",
            "201417 50\n",
            "201418 74\n",
            "201419 93\n",
            "20142 62\n",
            "201420 75\n",
            "201421 92\n",
            "201422 40\n",
            "201423 75\n",
            "201424 71\n",
            "201425 53\n",
            "201426 35\n",
            "201427 41\n",
            "201429 71\n",
            "20143 99\n",
            "201430 67\n",
            "20144 33\n",
            "20145 80\n",
            "20146 108\n",
            "20147 153\n",
            "20148 69\n",
            "20149 48\n",
            "20151 77\n",
            "201510 48\n",
            "201511 71\n",
            "201512 72\n",
            "201513 66\n",
            "201514 43\n",
            "201515 91\n",
            "201516 65\n",
            "201517 45\n",
            "201518 118\n",
            "201519 71\n",
            "20152 64\n",
            "201520 47\n",
            "201521 68\n",
            "201522 60\n",
            "201523 38\n",
            "201524 76\n",
            "201525 52\n",
            "201526 38\n",
            "201527 43\n",
            "201528 24\n",
            "201529 20\n",
            "20153 118\n",
            "201530 37\n",
            "20154 86\n",
            "20155 59\n",
            "20156 84\n",
            "20157 103\n",
            "20158 40\n",
            "20159 52\n",
            "Total relled: 3626\n"
          ]
        }
      ],
      "source": [
        "label_counts, test_rel_dict, all_qrelled_docs = analyze_test_rels('/content/drive/MyDrive/trec21_ct_full/A_Test_Collection_for_Matching_Patient_to_Clinical_Trials/qrels-clinical_trials.txt')"
      ]
    },
    {
      "cell_type": "code",
      "execution_count": null,
      "metadata": {
        "id": "uqRTfQqJvjmd"
      },
      "outputs": [],
      "source": [
        "test_docs_path = '/content/drive/MyDrive/ct_data/proc_test_docs.jsonl'\n",
        "test_docs_ml_path = '/content/drive/MyDrive/ct_data/proc_test_ml_docs.jsonl'\n",
        "test_topics_path = '/content/drive/MyDrive/ct_data/proc_test_topics.jsonl'\n",
        "test_topics_ml_path = '/content/drive/MyDrive/ct_data/proc_test_ml_topics.jsonl'"
      ]
    },
    {
      "cell_type": "code",
      "execution_count": null,
      "metadata": {
        "id": "Bme1kjGTvoZ2"
      },
      "outputs": [],
      "source": [
        "#truncate_sents(test_docs_path, test_docs_ml_path, max_lens=[254, 255], labels=[\"include_criteria\", \"exclude_criteria\"])"
      ]
    },
    {
      "cell_type": "code",
      "execution_count": null,
      "metadata": {
        "colab": {
          "base_uri": "https://localhost:8080/"
        },
        "id": "Q0IB1Dl7vx3U",
        "outputId": "3e5b3150-1f50-4c6d-c4c0-ffc3d6995c9a"
      },
      "outputs": [
        {
          "output_type": "execute_result",
          "data": {
            "text/plain": [
              "[{'exclude_criteria': 'Age < 1 year or > 21 years Patients who have known allergy to mebendazole or benzimidazole class drugs. Patients who have previously had a severe side effect, such as agranulocytosis and neutropenia, in conjunction with previous mebendazole or benzimidazole class drug for a parasitic infection . Patients who are taking metronidazole and cannot be safely moved to a different antibiotic greater than 7 days prior to starting mebendazole therapy. Pregnant female patients are not eligible for this study. Pregnancy tests with a negative result must be obtained in all post-menarchal females. Lactating females must agree they will not breastfeed a child while on this study. Males and females of reproductive potential may not participate unless they agree to use an effective contraceptive method and continue to do so for at least 6 months after the completion of therapy. Patients who are unable to take oral medications because of significant vomiting will be Group A Low-grade Glioma Group ONLY: Patients who have failed prior chemotherapy with vincristine, carboplatin, or temozolomide for this tumor are d. Patients with Neurofibromatosis Type 1 Group B High-grade Glioma/Pontine Glioma Group ONLY: Patients who failed prior chemotherapy with bevacizumab or irinotecan for this tumor are d. Patients who progressed on or within 12 weeks after completion of radiotherapy are d. Patients with a history or current condition that would preclude the use of bevacizumab failed therapy with any of the chemotherapeutic agents used in this study breast feed while receiving medications on study',\n",
              "  'id': 'NCT01837862',\n",
              "  'include_criteria': 'Age > 1 year of age and ≤ 21 years of age Diagnosis 1. Group A Low-grade Glioma Group: Histology: Biopsy-proven: Pilocytic Astrocytoma Fibrillary Astrocytoma Pilomyxoid Astrocytoma Pleomorphic Xanthoastrocytoma Other low grade astrocytomas Children with optic pathway tumors must have evidence of progressive disease on MRI and/or symptoms of deteriorating vision or, progressive hypothalamic/pituitary dysfunction or, diencephalic syndrome or precocious puberty. Patients with relapsed low-grade gliomas who have been previously treated with chemotherapy will be eligible for the study provided they have not previously failed therapy with any of the chemotherapeutic agents used in this study. 2 Group B High-grade Glioma/Pontine Glioma Group: Histology: Biopsy-proven Anaplastic astrocytoma Glioblastoma multiforme Gliosarcoma. Patients with primary spinal cord malignant gliomas are eligible. For primary brainstem tumors, histologic verification is not required. Patients are eligible when diagnosed with clinical and radiographic (MRI) evidence of tumors which diffusely involve the brainstem. Patients with tumors which intrinsically (greater than 50% intra-axial) involve the pons or pons and medulla or pons and midbrain or entire brainstem are eligible. Tumors may contiguously involve the thalamus or upper cervical cord. Timing of therapy: Patients must be enrolled before treatment begins. Treatment must start within 14 days of study enrollment. All clinical and laboratory studies to determine must be performed within 7 days Adequate hematologic, renal, liver function as demonstrated by laboratory values. Negative pregnancy test in women of childbearing potential within 7 days of initiating investigational therapy Life expectancy ≥ 3 months'},\n",
              " {'exclude_criteria': 'Patients with a contraindication to contrast venography Patients with an increased risk of bleeding. Patients with a predefined risk for prethrombotic episodes or a history of thrombophilia. Other or to be determined by the physician and study sponsor.',\n",
              "  'id': 'NCT00041509',\n",
              "  'include_criteria': 'Patients scheduled for primary elective unilateral total hip arthroplasty (i.e. first time the hip is being replaced on the operative side). Patients who have given written informed consent to participate in this study.'},\n",
              " {'exclude_criteria': 'Less than 6 hours or more than 36 hours since delivery at the time of randomization Need for anticoagulation as judged by the local investigator, may but not limited to: Personal history of previous provoked or unprovoked VTE (DVT or PE) Continuation of LMWH that was started in the antenatal period for VTE prophylaxis Mechanical heart valve Known high-risk thrombophilia (Known = diagnosed prior to enrolment and high-risk thrombophilia includes deficiency of antithrombin (at least 1 abnormal lab result), persistently positive anticardiolipin antibodies (> 30U/ml on two measurements a minimum of six weeks apart), persistently positive Anti B2 glycoprotein antibodies (> 20U/ml on two measurements a minimum of six weeks apart), persistently positive lupus anticoagulant (positive on two measurements a minimum of six weeks apart), homozygous factor V Leiden (FVL), homozygous prothrombin gene mutation (PGM), compound heterozygosity factor Contraindication to heparin therapy, including: History of heparin induced thrombocytopenia (HIT) Platelet count of less than 80,000 x 106/L on postpartum Complete Blood Count(CBC) Hemoglobin ≤ 75 g/L on postpartum CBC Active bleeding at any site (not resolved prior to randomization) Excessive postpartum vaginal bleeding (>1 pad per hour prior to randomization). Documented gastrointestinal ulcer within 6 weeks prior to randomization History of heparin or LMWH allergy Severe postpartum hypertension (systolic blood pressure (SBP) > 200mm/hg and/or diastolic blood pressure (DBP) > 120mm/hg) Severe hepatic failure (INR >1.8 if liver disease suspected) Have received more than one dose of heparin or LMWH since delivery < Prior participation in PROSPER Unable or refused',\n",
              "  'id': 'NCT01274637',\n",
              "  'include_criteria': 'Women must be at high risk for thromboembolism for one of the following reasons: Known low risk thrombophilia (Known = diagnosed prior to enrollment and low risk thrombophilia includes heterozygous factor V Leiden or prothrombin gene variant or protein C deficiency or protein S deficiency. If not previously tested then assumed not to have thrombophilia). Immobilization (defined as >90% of waking hours in bed, of a week or more at any point in the antepartum period). OR any two of the following reasons: Postpartum infection (fever (temperature>38.5oC) and clinical signs/symptoms of infection and elevated neutrophil count (higher than local lab normal)) Postpartum hemorrhage (Estimated blood loss >1000 ml during delivery and postpartum) Pre-pregnancy BMI >25 kg/m2 Emergency cesarean birth (emergency = not planned prior to onset of labour) Smoking >5 cigarettes per day prior to pregnancy Preeclampsia (blood pressure ≥ 140mmHG systolic and/or ≥90 mmHg diastolic on at least one occasion and proteinuria (1+ on urine dipstick or 300mg/dl or total excretion of 300mg/24 hours) or typical end-organ dysfunction. Infant birth weight (adjusted for sex and gestational age) <3rd percentile (i.e., small for gestational age).'},\n",
              " {'exclude_criteria': 'Children who are unable to understand or perform test or parents refusal.',\n",
              "  'id': 'NCT02053012',\n",
              "  'include_criteria': 'Ability to understand how to perform reaction time test and complete without assistance.'},\n",
              " {'exclude_criteria': \"Acute ulcer Multiple Ulcers on the lower limb. Clinical evidence of infection in the soft tissue, joint and/or bone (osteomyelitis) as presented in the physical examination. The wound is penetrating into deep structures and involves bone, tendon or joint. Wound has necrotic tissue. Wound with sinus tracts. HbA1c>12. Patients with any other skin disorder unrelated to the ulcer that is presented in adjacent to the target wound. Clinically significant arterial vascular disease with Ankle-Brachial Index (ABI) index <0.45 if the peripheral pulse is not palpable, or flatted Pulse Volume Recording (PVR) in case of non palpable arteries. Patient is receiving, or has received within one month prior to enrollment any treatment known to impair wound healing, including but not limited to:, immunosuppressive drugs, cytotoxic agents, radiation therapy and chemotherapy. Has active malignant disease of any kind. A patient, who has had a malignant disease in the past, was treated and is currently disease-free for at least 5 years, may be considered for study entry. Patients who present with significant metabolic co-morbidity that would preclude wound healing such as end stage renal failure, dialysis or severe liver dysfunction. Clinically significant abnormalities in hematology and blood chemistry lab tests at screening that in the opinion of the investigator might interfere with the patient's safety or participation in the study. Known positive HIV. Known history of a significant medical disorder, which in the investigator's judgment contraindicates the patient's participation. Known hypersensitivity and/or allergy to collagen. Drug or alcohol abuse (by history).\",\n",
              "  'id': 'NCT02598180',\n",
              "  'include_criteria': 'Patient is 18 years of age or older. Patient has one of the following difficult-to-treat chronic ulcers in the lower limb: 1. Neuropathic lower limb ulcer 2. Venous lower limb ulcer 3. Post traumatic lower limb ulcer 4. Post operative lower limb ulcer In case of Neuropathic foot grade according to University of Texas Classification 1A Wound area measurement ranging between 1-20cm2. Ulcer defined as grade ≥E on the granulometer scale. Willing to adhere to the proper off-loading device (off loading cast, healing shoe) according to investigator recommendation. Female patients must have a negative serum pregnancy test at screening and be willing and able to use a medically acceptable method of birth control or declare that they are abstaining from sexual intercourse, from the screening visit through the study termination visit or be surgically sterile (bilateral tubal ligation, bilateral oophorectomy, or hysterectomy) or post-menopausal. Postmenopausal women are defined as women with menstruation cessation for 12 consecutive months prior to signing of the informed consent form. Ability and willingness to understand and comply with study procedures and to give written informed consent prior to enrollment in the study.'}]"
            ]
          },
          "metadata": {},
          "execution_count": 8
        }
      ],
      "source": [
        "docs = load_results(test_docs_ml_path)\n",
        "docs[:5]"
      ]
    },
    {
      "cell_type": "code",
      "execution_count": null,
      "metadata": {
        "colab": {
          "base_uri": "https://localhost:8080/"
        },
        "id": "YJckpVfcxpu0",
        "outputId": "765a39d4-f155-46f0-f02e-88d67e5fe8e8"
      },
      "outputs": [
        {
          "output_type": "execute_result",
          "data": {
            "text/plain": [
              "[{'id': '20141',\n",
              "  'sents': 'A 58-year-old African-American woman presents to the ER with episodic pressing/burning anterior chest pain that began two days earlier for the first time in her life. The pain started while she was walking, radiates to the back, and is accompanied by nausea, diaphoresis and mild dyspnea, but is not increased on inspiration. The latest episode of pain ended half an hour prior to her arrival. She is known to have hypertension and obesity. She denies smoking, diabetes, hypercholesterolemia, or a family history of heart disease. She currently takes no medications. Physical examination is normal. The EKG shows nonspecific changes.'},\n",
              " {'id': '20142',\n",
              "  'sents': 'An 8-year-old male presents in March to the ER with fever up to 39 C, dyspnea and cough for 2 days. He has just returned from a 5 day vacation in Colorado. Parents report that prior to the onset of fever and cough, he had loose stools. He denies upper respiratory tract symptoms. On examination he is in respiratory distress and has bronchial respiratory sounds on the left. A chest x-ray shows bilateral lung infiltrates.'},\n",
              " {'id': '20143',\n",
              "  'sents': 'A 58-year-old nonsmoker white female with mild exertional dyspnea and occasional cough is found to have a left lung mass on chest x-ray. She is otherwise asymptomatic. A neurologic examination is unremarkable, but a CT scan of the head shows a solitary mass in the right frontal lobe.'},\n",
              " {'id': '20144',\n",
              "  'sents': 'A 2-year-old boy is brought to the emergency department by his parents for 5 days of high fever and irritability. The physical exam reveals conjunctivitis, strawberry tongue, inflammation of the hands and feet, desquamation of the skin of the fingers and toes, and cervical lymphadenopathy with the smallest node at 1.5 cm. The abdominal exam demonstrates tenderness and enlarged liver. Laboratory tests report elevated alanine aminotransferase, white blood cell count of 17,580/mm, albumin 2.1 g/dL, C-reactive protein 4.5 mg, erythrocyte sedimentation rate 60 mm/h, mild normochromic, normocytic anemia, and leukocytes in urine of 20/mL with no bacteria identified. The echocardiogram shows moderate dilation of the coronary arteries with possible coronary artery aneurysm.'},\n",
              " {'id': '20145',\n",
              "  'sents': 'A 56-year-old female on 20th day post-left mastectomy presents to the emergency department complaining of shortness of breath and malaise. The patient says that she has remained in bed for the last two weeks. The physical examination reveals tenderness on the left upper thoracic wall and right calf. The surgical incision shows no bleeding or signs of infection. Pulmonary auscultation is significant for bilateral decreased breath sounds, especially at the right base. Laboratory tests reveal an elevated D-dimer.'}]"
            ]
          },
          "metadata": {},
          "execution_count": 9
        }
      ],
      "source": [
        "#truncate_sents(test_topics_path, test_topics_ml_path, max_lens=[510], labels=[\"sents\"])\n",
        "topics = load_results(test_topics_ml_path)\n",
        "topics[:5]"
      ]
    },
    {
      "cell_type": "code",
      "execution_count": null,
      "metadata": {
        "id": "cpNqUg6exTFA"
      },
      "outputs": [],
      "source": [
        "id2doc = {doc['id']:doc for doc in docs}\n",
        "id2topic = {topic['id']:topic for topic in topics}"
      ]
    },
    {
      "cell_type": "code",
      "execution_count": null,
      "metadata": {
        "colab": {
          "base_uri": "https://localhost:8080/"
        },
        "id": "eIs2qb8IxTJg",
        "outputId": "89375532-a209-4829-a6a4-4a7bd1d82da2"
      },
      "outputs": [
        {
          "output_type": "execute_result",
          "data": {
            "text/plain": [
              "('20142',\n",
              " {'ones': {'NCT00237016',\n",
              "   'NCT01099943',\n",
              "   'NCT01253980',\n",
              "   'NCT01269554',\n",
              "   'NCT02618655'},\n",
              "  'twos': {'NCT00711399',\n",
              "   'NCT01017081',\n",
              "   'NCT01707485',\n",
              "   'NCT02269761',\n",
              "   'NCT02380352'},\n",
              "  'zeros': {'NCT00000932',\n",
              "   'NCT00086879',\n",
              "   'NCT00094887',\n",
              "   'NCT00095316',\n",
              "   'NCT00096772',\n",
              "   'NCT00132951',\n",
              "   'NCT00161772',\n",
              "   'NCT00161798',\n",
              "   'NCT00161824',\n",
              "   'NCT00161863',\n",
              "   'NCT00161967',\n",
              "   'NCT00163540',\n",
              "   'NCT00163618',\n",
              "   'NCT00311441',\n",
              "   'NCT00385632',\n",
              "   'NCT00386035',\n",
              "   'NCT00432003',\n",
              "   'NCT00455468',\n",
              "   'NCT00460486',\n",
              "   'NCT00498654',\n",
              "   'NCT00503529',\n",
              "   'NCT00507871',\n",
              "   'NCT00513500',\n",
              "   'NCT00617344',\n",
              "   'NCT00680836',\n",
              "   'NCT00694655',\n",
              "   'NCT00740155',\n",
              "   'NCT00840801',\n",
              "   'NCT00851487',\n",
              "   'NCT00894686',\n",
              "   'NCT01070732',\n",
              "   'NCT01075204',\n",
              "   'NCT01087892',\n",
              "   'NCT01147445',\n",
              "   'NCT01177657',\n",
              "   'NCT01201252',\n",
              "   'NCT01202201',\n",
              "   'NCT01241201',\n",
              "   'NCT01253967',\n",
              "   'NCT01359020',\n",
              "   'NCT01521403',\n",
              "   'NCT01589926',\n",
              "   'NCT01627327',\n",
              "   'NCT01663155',\n",
              "   'NCT01670149',\n",
              "   'NCT01739673',\n",
              "   'NCT02052934',\n",
              "   'NCT02139163',\n",
              "   'NCT02383680',\n",
              "   'NCT02391909',\n",
              "   'NCT02441699',\n",
              "   'NCT02625129'}})"
            ]
          },
          "metadata": {},
          "execution_count": 11
        }
      ],
      "source": [
        "topic_key = list(test_rel_dict.keys())[11]\n",
        "topic_key, get_relled(topic_key, test_rel_dict)"
      ]
    },
    {
      "cell_type": "code",
      "execution_count": null,
      "metadata": {
        "colab": {
          "base_uri": "https://localhost:8080/",
          "height": 88
        },
        "id": "aoJwnZ3lxTQ7",
        "outputId": "6348b8db-e4e9-43f8-fc33-259490f33535"
      },
      "outputs": [
        {
          "output_type": "execute_result",
          "data": {
            "application/vnd.google.colaboratory.intrinsic+json": {
              "type": "string"
            },
            "text/plain": [
              "'A 58-year-old African-American woman presents to the ER with episodic pressing/burning anterior chest pain that began two days earlier for the first time in her life. The pain started while she was walking, radiates to the back, and is accompanied by nausea, diaphoresis and mild dyspnea, but is not increased on inspiration. The latest episode of pain ended half an hour prior to her arrival. She is known to have hypertension and obesity. She denies smoking, diabetes, hypercholesterolemia, or a family history of heart disease. She currently takes no medications. Physical examination is normal. The EKG shows nonspecific changes.'"
            ]
          },
          "metadata": {},
          "execution_count": 12
        }
      ],
      "source": [
        "first_topic = id2topic[list(id2topic.keys())[0]];first_topic['sents']"
      ]
    },
    {
      "cell_type": "code",
      "execution_count": null,
      "metadata": {
        "id": "_aYOGpRDxTX_"
      },
      "outputs": [],
      "source": [
        "ct_ml_datafile = \"/content/drive/MyDrive/ct_ml_data/ct_data.jsonl\"\n",
        "#create_dataset(id2doc, id2topic, test_rel_dict, writefile=ct_ml_datafile)\n"
      ]
    },
    {
      "cell_type": "code",
      "execution_count": null,
      "metadata": {
        "colab": {
          "base_uri": "https://localhost:8080/",
          "height": 187,
          "referenced_widgets": [
            "51360c5111a84788834de3c5dc1be849",
            "6ed4d930fac740eb9d393d51af327d54",
            "4821813835394eb18e5a54f7783a7bbc",
            "b1da1f5840d3459cae65f7a42f562472",
            "6e079df73ce44d21b3bf9ab645baf2f0",
            "900ccf29f1e04be392976c093f2cdda2",
            "e5aa695503d54f5787e57dd600fa32e3",
            "e4b61449e6714f75b625cc6622bcf0c7",
            "1034e1395dc442ff92de775f8b6878f6",
            "e76d1ec0c31e417d9743ba4254bda113",
            "073cb8373d944bbf92c180e5c2ee9751"
          ]
        },
        "id": "HiFfop3tzSdJ",
        "outputId": "5d088045-e258-4aa1-a90d-984c7053c434"
      },
      "outputs": [
        {
          "output_type": "stream",
          "name": "stderr",
          "text": [
            "Using custom data configuration default-8df2be64c572bd88\n",
            "Reusing dataset json (/root/.cache/huggingface/datasets/json/default-8df2be64c572bd88/0.0.0/c2d554c3377ea79c7664b93dc65d0803b45e3279000f993c7bfd18937fd7f426)\n"
          ]
        },
        {
          "output_type": "display_data",
          "data": {
            "application/vnd.jupyter.widget-view+json": {
              "model_id": "51360c5111a84788834de3c5dc1be849",
              "version_minor": 0,
              "version_major": 2
            },
            "text/plain": [
              "  0%|          | 0/1 [00:00<?, ?it/s]"
            ]
          },
          "metadata": {}
        },
        {
          "output_type": "execute_result",
          "data": {
            "text/plain": [
              "DatasetDict({\n",
              "    train: Dataset({\n",
              "        features: ['topic_text', 'crit_text', 'label'],\n",
              "        num_rows: 3870\n",
              "    })\n",
              "})"
            ]
          },
          "metadata": {},
          "execution_count": 14
        }
      ],
      "source": [
        "ct_dataset = load_dataset(\"json\", data_files=ct_ml_datafile);ct_dataset"
      ]
    },
    {
      "cell_type": "code",
      "execution_count": null,
      "metadata": {
        "id": "mhQguZF35I8L",
        "colab": {
          "base_uri": "https://localhost:8080/"
        },
        "outputId": "ca50bceb-d595-4b86-f967-14785b76c15e"
      },
      "outputs": [
        {
          "output_type": "stream",
          "name": "stderr",
          "text": [
            "Loading cached split indices for dataset at /root/.cache/huggingface/datasets/json/default-8df2be64c572bd88/0.0.0/c2d554c3377ea79c7664b93dc65d0803b45e3279000f993c7bfd18937fd7f426/cache-9529187fe246cb53.arrow and /root/.cache/huggingface/datasets/json/default-8df2be64c572bd88/0.0.0/c2d554c3377ea79c7664b93dc65d0803b45e3279000f993c7bfd18937fd7f426/cache-d477128800868d75.arrow\n"
          ]
        }
      ],
      "source": [
        "ct_dataset = train_test_val_split(ct_dataset, splits={\"train\":0.8, \"val\":0.1})"
      ]
    },
    {
      "cell_type": "code",
      "execution_count": null,
      "metadata": {
        "colab": {
          "base_uri": "https://localhost:8080/"
        },
        "id": "tP7Kxzak5vhF",
        "outputId": "a717a0ba-5c65-44a9-92fe-5276890434bd"
      },
      "outputs": [
        {
          "output_type": "execute_result",
          "data": {
            "text/plain": [
              "DatasetDict({\n",
              "    train: Dataset({\n",
              "        features: ['topic_text', 'crit_text', 'label'],\n",
              "        num_rows: 2786\n",
              "    })\n",
              "    test: Dataset({\n",
              "        features: ['topic_text', 'crit_text', 'label'],\n",
              "        num_rows: 774\n",
              "    })\n",
              "    validation: Dataset({\n",
              "        features: ['topic_text', 'crit_text', 'label'],\n",
              "        num_rows: 310\n",
              "    })\n",
              "})"
            ]
          },
          "metadata": {},
          "execution_count": 16
        }
      ],
      "source": [
        "ct_dataset"
      ]
    },
    {
      "cell_type": "code",
      "execution_count": null,
      "metadata": {
        "id": "1YYAk9hy_Pt0"
      },
      "outputs": [],
      "source": [
        "ct_dataset_df = ct_dataset[\"train\"].to_pandas()"
      ]
    },
    {
      "cell_type": "code",
      "execution_count": null,
      "metadata": {
        "colab": {
          "base_uri": "https://localhost:8080/",
          "height": 423
        },
        "id": "Hv4IekywALNA",
        "outputId": "37365e27-4636-4ee4-bc3a-26f9ec44903b"
      },
      "outputs": [
        {
          "output_type": "execute_result",
          "data": {
            "text/html": [
              "<div>\n",
              "<style scoped>\n",
              "    .dataframe tbody tr th:only-of-type {\n",
              "        vertical-align: middle;\n",
              "    }\n",
              "\n",
              "    .dataframe tbody tr th {\n",
              "        vertical-align: top;\n",
              "    }\n",
              "\n",
              "    .dataframe thead th {\n",
              "        text-align: right;\n",
              "    }\n",
              "</style>\n",
              "<table border=\"1\" class=\"dataframe\">\n",
              "  <thead>\n",
              "    <tr style=\"text-align: right;\">\n",
              "      <th></th>\n",
              "      <th>topic_text</th>\n",
              "      <th>crit_text</th>\n",
              "      <th>label</th>\n",
              "    </tr>\n",
              "  </thead>\n",
              "  <tbody>\n",
              "    <tr>\n",
              "      <th>4</th>\n",
              "      <td>A 44-year-old man was recently in an automobil...</td>\n",
              "      <td>Subjects who the investigator believes can and...</td>\n",
              "      <td>2</td>\n",
              "    </tr>\n",
              "    <tr>\n",
              "      <th>6</th>\n",
              "      <td>A 44 yo male is brought to the emergency room ...</td>\n",
              "      <td>Adult patients (18-80) who are admitted to the...</td>\n",
              "      <td>2</td>\n",
              "    </tr>\n",
              "    <tr>\n",
              "      <th>8</th>\n",
              "      <td>A 21-year-old college student undergoes colono...</td>\n",
              "      <td>Patients who are 18 years or older with a clin...</td>\n",
              "      <td>2</td>\n",
              "    </tr>\n",
              "    <tr>\n",
              "      <th>16</th>\n",
              "      <td>A 21-year-old female is evaluated for progress...</td>\n",
              "      <td>Patients older than 18 years old Immune Thromb...</td>\n",
              "      <td>2</td>\n",
              "    </tr>\n",
              "    <tr>\n",
              "      <th>35</th>\n",
              "      <td>A physician is called to see a 67-year-old wom...</td>\n",
              "      <td>age 19-90 years having clinical ultrasound eva...</td>\n",
              "      <td>2</td>\n",
              "    </tr>\n",
              "    <tr>\n",
              "      <th>...</th>\n",
              "      <td>...</td>\n",
              "      <td>...</td>\n",
              "      <td>...</td>\n",
              "    </tr>\n",
              "    <tr>\n",
              "      <th>2747</th>\n",
              "      <td>A 32-year-old woman is admitted to the ER foll...</td>\n",
              "      <td>Road traffic accident victims hospitalized in ...</td>\n",
              "      <td>2</td>\n",
              "    </tr>\n",
              "    <tr>\n",
              "      <th>2758</th>\n",
              "      <td>A 32 year old female with no previous medical ...</td>\n",
              "      <td>have not been previously diagnosed with cervic...</td>\n",
              "      <td>2</td>\n",
              "    </tr>\n",
              "    <tr>\n",
              "      <th>2768</th>\n",
              "      <td>A 56-year-old female on 20th day post-left mas...</td>\n",
              "      <td>Admitted to Scripps Mercy Trauma Service ≥18 Y...</td>\n",
              "      <td>2</td>\n",
              "    </tr>\n",
              "    <tr>\n",
              "      <th>2769</th>\n",
              "      <td>A 32 year old female with no previous medical ...</td>\n",
              "      <td>Referred to follow up due to one or more abnor...</td>\n",
              "      <td>2</td>\n",
              "    </tr>\n",
              "    <tr>\n",
              "      <th>2785</th>\n",
              "      <td>An 8-year-old male presents in March to the ER...</td>\n",
              "      <td>Children aged 6 months to 10 years presenting ...</td>\n",
              "      <td>2</td>\n",
              "    </tr>\n",
              "  </tbody>\n",
              "</table>\n",
              "<p>295 rows × 3 columns</p>\n",
              "</div>"
            ],
            "text/plain": [
              "                                             topic_text  ... label\n",
              "4     A 44-year-old man was recently in an automobil...  ...     2\n",
              "6     A 44 yo male is brought to the emergency room ...  ...     2\n",
              "8     A 21-year-old college student undergoes colono...  ...     2\n",
              "16    A 21-year-old female is evaluated for progress...  ...     2\n",
              "35    A physician is called to see a 67-year-old wom...  ...     2\n",
              "...                                                 ...  ...   ...\n",
              "2747  A 32-year-old woman is admitted to the ER foll...  ...     2\n",
              "2758  A 32 year old female with no previous medical ...  ...     2\n",
              "2768  A 56-year-old female on 20th day post-left mas...  ...     2\n",
              "2769  A 32 year old female with no previous medical ...  ...     2\n",
              "2785  An 8-year-old male presents in March to the ER...  ...     2\n",
              "\n",
              "[295 rows x 3 columns]"
            ]
          },
          "metadata": {},
          "execution_count": 18
        }
      ],
      "source": [
        "ct_dataset_df[(ct_dataset_df.label != 0) & (ct_dataset_df.label != 1)]"
      ]
    },
    {
      "cell_type": "code",
      "execution_count": null,
      "metadata": {
        "colab": {
          "base_uri": "https://localhost:8080/",
          "height": 70
        },
        "id": "MJessWh9KfUN",
        "outputId": "28790687-2089-44cb-8740-80700d2c67f6"
      },
      "outputs": [
        {
          "output_type": "execute_result",
          "data": {
            "application/vnd.google.colaboratory.intrinsic+json": {
              "type": "string"
            },
            "text/plain": [
              "'A 26-year-old obese woman with a history of bipolar disorder complains that her recent struggles with her weight and eating have caused her to feel depressed. She states that she has recently had difficulty sleeping and feels excessively anxious and agitated. She also states that she has had thoughts of suicide. She often finds herself fidgety and unable to sit still for extended periods of time. Her family tells her that she is increasingly irritable. Her current medications include lithium carbonate and zolpidem.'"
            ]
          },
          "metadata": {},
          "execution_count": 19
        }
      ],
      "source": [
        "ct_dataset_df.topic_text[1]"
      ]
    },
    {
      "cell_type": "code",
      "source": [
        "topics[0]"
      ],
      "metadata": {
        "colab": {
          "base_uri": "https://localhost:8080/"
        },
        "id": "gYVCpsrbT3Yg",
        "outputId": "68cdd783-9b39-47f9-95fa-d00f59f5b938"
      },
      "execution_count": null,
      "outputs": [
        {
          "output_type": "execute_result",
          "data": {
            "text/plain": [
              "{'id': '20141',\n",
              " 'sents': 'A 58-year-old African-American woman presents to the ER with episodic pressing/burning anterior chest pain that began two days earlier for the first time in her life. The pain started while she was walking, radiates to the back, and is accompanied by nausea, diaphoresis and mild dyspnea, but is not increased on inspiration. The latest episode of pain ended half an hour prior to her arrival. She is known to have hypertension and obesity. She denies smoking, diabetes, hypercholesterolemia, or a family history of heart disease. She currently takes no medications. Physical examination is normal. The EKG shows nonspecific changes.'}"
            ]
          },
          "metadata": {},
          "execution_count": 20
        }
      ]
    },
    {
      "cell_type": "code",
      "source": [
        "get_relled('20141', test_rel_dict)['twos']"
      ],
      "metadata": {
        "colab": {
          "base_uri": "https://localhost:8080/"
        },
        "id": "GYrnB_8wT3a0",
        "outputId": "f33965c7-b814-4767-cbd0-04201f9b93fc"
      },
      "execution_count": null,
      "outputs": [
        {
          "output_type": "execute_result",
          "data": {
            "text/plain": [
              "{'NCT00005127',\n",
              " 'NCT00005485',\n",
              " 'NCT00005757',\n",
              " 'NCT00143195',\n",
              " 'NCT00175279',\n",
              " 'NCT00373828',\n",
              " 'NCT00683813',\n",
              " 'NCT00809029',\n",
              " 'NCT00832442',\n",
              " 'NCT00952744',\n",
              " 'NCT01253486',\n",
              " 'NCT01724567',\n",
              " 'NCT02381340',\n",
              " 'NCT02532699'}"
            ]
          },
          "metadata": {},
          "execution_count": 21
        }
      ]
    },
    {
      "cell_type": "code",
      "source": [
        "id2doc['NCT00683813']"
      ],
      "metadata": {
        "colab": {
          "base_uri": "https://localhost:8080/"
        },
        "id": "a8IIM52wVDNC",
        "outputId": "932c802e-e979-4a8c-d2ad-300304beff07"
      },
      "execution_count": null,
      "outputs": [
        {
          "output_type": "execute_result",
          "data": {
            "text/plain": [
              "{'exclude_criteria': 'Previous experience with a cardiac rehabilitation program. Patients with depression, uncontrolled diabetes and other significant co-morbidities that may interfere with effective IHD management. Those patients, who in the mind of the attending physician, are unsuitable for participation. Those unable to provide informed consent. Pregnant women. High-risk patients for safety considerations (future studies will high-risk patients).',\n",
              " 'id': 'NCT00683813',\n",
              " 'include_criteria': 'Men and women admitted for an IHD event (acute coronary syndrome or revascularization procedure) who are at low or moderate risk.91 Regular Internet access (home, work or other environment). Over 18 years of age. Permission of the attending physician. Able to read, write and understand English without difficulty. No physical limitations to regular activity.'}"
            ]
          },
          "metadata": {},
          "execution_count": 22
        }
      ]
    },
    {
      "cell_type": "code",
      "execution_count": null,
      "metadata": {
        "colab": {
          "base_uri": "https://localhost:8080/",
          "height": 88
        },
        "id": "3R2lUvNMLo9Y",
        "outputId": "3b7b2220-c384-4b31-966e-d3d172d7e003"
      },
      "outputs": [
        {
          "output_type": "execute_result",
          "data": {
            "application/vnd.google.colaboratory.intrinsic+json": {
              "type": "string"
            },
            "text/plain": [
              "'A primary psychiatric diagnosis of Major Depressive Disorder as defined by: a score of 18 or above in the 17-item Hamilton Depression Scale; Male or female ages 18+; Ability to give consent Diagnosis of Breast Cancer Patients may be either English or Spanish speaking [SEP] Lifetime history of psychosis or bipolar disorder Patients meeting diagnostic statistic manual for mental disorder for alcohol or substance use disorders who require acute detoxification. Current suicide risk. Advanced cancer or other condition that limits remaining life expectancy to less than 6 months. Patients who are receiving effective medication for Depression'"
            ]
          },
          "metadata": {},
          "execution_count": 23
        }
      ],
      "source": [
        "ct_dataset_df.crit_text[34]"
      ]
    },
    {
      "cell_type": "code",
      "execution_count": null,
      "metadata": {
        "colab": {
          "base_uri": "https://localhost:8080/"
        },
        "id": "WZ4RSsWXAR84",
        "outputId": "9c541ecf-c57e-4ed2-a32e-a2b872506ae2"
      },
      "outputs": [
        {
          "output_type": "execute_result",
          "data": {
            "text/plain": [
              "{'crit_text': Value(dtype='string', id=None),\n",
              " 'label': Value(dtype='int64', id=None),\n",
              " 'topic_text': Value(dtype='string', id=None)}"
            ]
          },
          "metadata": {},
          "execution_count": 24
        }
      ],
      "source": [
        "ct_dataset[\"train\"].features"
      ]
    },
    {
      "cell_type": "code",
      "execution_count": null,
      "metadata": {
        "id": "sOchPBpuAR_i"
      },
      "outputs": [],
      "source": [
        "from datasets import Features, ClassLabel, Value\n",
        "features = Features({\n",
        "    'crit_text': Value(dtype='string', id=None),\n",
        "    'label': ClassLabel(names=[\"not_relevant\", \"partially_relevant\", \"relevant\"]),\n",
        "    'topic_text': Value(dtype='string', id=None)\n",
        "})"
      ]
    },
    {
      "cell_type": "code",
      "execution_count": null,
      "metadata": {
        "colab": {
          "base_uri": "https://localhost:8080/",
          "height": 119,
          "referenced_widgets": [
            "c0a1ce36f78c408eadd3a1e49f707f7e",
            "4d888759fdd54e628725386bd7da42af",
            "eb7eb1822c374cf297b6fbe0461a2e79",
            "a1824c459a164035a2a743dec0e7e0cd",
            "a9e05b91d13946d8b6181fb5bd9fbd85",
            "265a4e48930d454190af3cb93317ce29",
            "c64afd93acc64bdfb329826ca6edc820",
            "999d71069dd74a74bbe053d0a2e1dee6",
            "40d23e3fe5ff4a12abdc5a56af5783cf",
            "8bd7377a720840df9dc505febe4da586",
            "9f600cade1db4b21bf86511c8fda3fa4",
            "443865b47bd44372844c4f0b8ac9f22c",
            "4c087a57c4f8439e9232e68cbec251b0",
            "e8517ec347dd41bda76953ed326d95dd",
            "06d5a0a7fcb840d79561985ce49c510e",
            "2a7961babdcf4ea8b2d12682de917d74",
            "6639ef7702574350b24622d318f315c5",
            "f1bd635ef42d4df5acf4b54cc6f926d1",
            "e8a49a1cf6e24e7f9cc61318271ef39c",
            "6ba7b1a1456d45c5a75580d03c220a52",
            "cc9562861aba4d00973ebc675c3dbf43",
            "bc1131d89a0044cf9286f2060fcd55c3"
          ]
        },
        "id": "LZ5CdyqbASBq",
        "outputId": "2a70723c-87a3-40c8-e6f0-bcf094417e50"
      },
      "outputs": [
        {
          "output_type": "display_data",
          "data": {
            "application/vnd.jupyter.widget-view+json": {
              "model_id": "c0a1ce36f78c408eadd3a1e49f707f7e",
              "version_minor": 0,
              "version_major": 2
            },
            "text/plain": [
              "  0%|          | 0/3 [00:00<?, ?ba/s]"
            ]
          },
          "metadata": {}
        },
        {
          "output_type": "stream",
          "name": "stderr",
          "text": [
            "Loading cached processed dataset at /root/.cache/huggingface/datasets/json/default-8df2be64c572bd88/0.0.0/c2d554c3377ea79c7664b93dc65d0803b45e3279000f993c7bfd18937fd7f426/cache-c055a3ed761c944a.arrow\n"
          ]
        },
        {
          "output_type": "display_data",
          "data": {
            "application/vnd.jupyter.widget-view+json": {
              "model_id": "443865b47bd44372844c4f0b8ac9f22c",
              "version_minor": 0,
              "version_major": 2
            },
            "text/plain": [
              "  0%|          | 0/1 [00:00<?, ?ba/s]"
            ]
          },
          "metadata": {}
        }
      ],
      "source": [
        "ct_dataset[\"train\"] = ct_dataset[\"train\"].map(lambda x: x, batched=True, features=features)\n",
        "ct_dataset[\"test\"] = ct_dataset[\"test\"].map(lambda x: x, batched=True, features=features)\n",
        "ct_dataset[\"validation\"] = ct_dataset[\"validation\"].map(lambda x: x, batched=True, features=features)"
      ]
    },
    {
      "cell_type": "code",
      "execution_count": null,
      "metadata": {
        "colab": {
          "base_uri": "https://localhost:8080/"
        },
        "id": "JJyjDmC7ASFM",
        "outputId": "a4e23968-1f3f-4619-db9c-fe9fde9457b6"
      },
      "outputs": [
        {
          "output_type": "execute_result",
          "data": {
            "text/plain": [
              "{'crit_text': Value(dtype='string', id=None),\n",
              " 'label': ClassLabel(num_classes=3, names=['not_relevant', 'partially_relevant', 'relevant'], names_file=None, id=None),\n",
              " 'topic_text': Value(dtype='string', id=None)}"
            ]
          },
          "metadata": {},
          "execution_count": 27
        }
      ],
      "source": [
        "ct_dataset[\"train\"].features"
      ]
    },
    {
      "cell_type": "code",
      "execution_count": null,
      "metadata": {
        "colab": {
          "base_uri": "https://localhost:8080/",
          "height": 36
        },
        "id": "B4IrmLE6Ip6N",
        "outputId": "86611d66-543f-4329-98a5-9811334ca63e"
      },
      "outputs": [
        {
          "output_type": "execute_result",
          "data": {
            "application/vnd.google.colaboratory.intrinsic+json": {
              "type": "string"
            },
            "text/plain": [
              "'relevant'"
            ]
          },
          "metadata": {},
          "execution_count": 28
        }
      ],
      "source": [
        "features[\"label\"].int2str(2)"
      ]
    },
    {
      "cell_type": "code",
      "execution_count": null,
      "metadata": {
        "colab": {
          "base_uri": "https://localhost:8080/"
        },
        "id": "VgyDvmUXJHq6",
        "outputId": "7d6607ae-53d4-40f8-b48b-f235b41a0a88"
      },
      "outputs": [
        {
          "output_type": "execute_result",
          "data": {
            "text/plain": [
              "{0: 'not_relevant', 1: 'partially_relevant', 2: 'relevant'}"
            ]
          },
          "metadata": {},
          "execution_count": 29
        }
      ],
      "source": [
        "id2label = {idx:features[\"label\"].int2str(idx) for idx in range(3)};id2label"
      ]
    },
    {
      "cell_type": "code",
      "execution_count": null,
      "metadata": {
        "colab": {
          "base_uri": "https://localhost:8080/"
        },
        "id": "a90BUVJDJa2A",
        "outputId": "a266888c-b518-4346-b7ac-fa75a3bcb1f5"
      },
      "outputs": [
        {
          "output_type": "execute_result",
          "data": {
            "text/plain": [
              "{'not_relevant': 0, 'partially_relevant': 1, 'relevant': 2}"
            ]
          },
          "metadata": {},
          "execution_count": 30
        }
      ],
      "source": [
        "label2id = {v:k for k, v in id2label.items()};label2id"
      ]
    },
    {
      "cell_type": "code",
      "execution_count": null,
      "metadata": {
        "colab": {
          "base_uri": "https://localhost:8080/"
        },
        "id": "OaVDI6nxJ8cm",
        "outputId": "820dc8d9-657e-460e-cbba-31b16f53041f"
      },
      "outputs": [
        {
          "output_type": "execute_result",
          "data": {
            "text/plain": [
              "0    0.713209\n",
              "1    0.180905\n",
              "2    0.105887\n",
              "Name: label, dtype: float64"
            ]
          },
          "metadata": {},
          "execution_count": 31
        }
      ],
      "source": [
        "ct_dataset_df[\"label\"].value_counts(normalize=True).sort_index() "
      ]
    },
    {
      "cell_type": "code",
      "execution_count": null,
      "metadata": {
        "colab": {
          "base_uri": "https://localhost:8080/"
        },
        "id": "AgTDwNs6J8lo",
        "outputId": "6f60f8ff-764a-4f92-bda2-477d7fe0391a"
      },
      "outputs": [
        {
          "output_type": "stream",
          "name": "stderr",
          "text": [
            "Some weights of the model checkpoint at allenai/scibert_scivocab_uncased were not used when initializing BertForSequenceClassification: ['cls.seq_relationship.bias', 'cls.predictions.transform.dense.weight', 'cls.predictions.transform.dense.bias', 'cls.predictions.decoder.weight', 'cls.predictions.transform.LayerNorm.weight', 'cls.predictions.decoder.bias', 'cls.seq_relationship.weight', 'cls.predictions.bias', 'cls.predictions.transform.LayerNorm.bias']\n",
            "- This IS expected if you are initializing BertForSequenceClassification from the checkpoint of a model trained on another task or with another architecture (e.g. initializing a BertForSequenceClassification model from a BertForPreTraining model).\n",
            "- This IS NOT expected if you are initializing BertForSequenceClassification from the checkpoint of a model that you expect to be exactly identical (initializing a BertForSequenceClassification model from a BertForSequenceClassification model).\n",
            "Some weights of BertForSequenceClassification were not initialized from the model checkpoint at allenai/scibert_scivocab_uncased and are newly initialized: ['classifier.weight', 'classifier.bias']\n",
            "You should probably TRAIN this model on a down-stream task to be able to use it for predictions and inference.\n"
          ]
        }
      ],
      "source": [
        "\n",
        "checkpoint = \"allenai/scibert_scivocab_uncased\"\n",
        "scibert_tokenizer = AutoTokenizer.from_pretrained(checkpoint)\n",
        "scibert_model = AutoModelForSequenceClassification.from_pretrained(checkpoint, num_labels=3, id2label=id2label, label2id=label2id)"
      ]
    },
    {
      "cell_type": "code",
      "execution_count": null,
      "metadata": {
        "id": "uJADISP958MJ"
      },
      "outputs": [],
      "source": [
        "#checkpoint= \"allenai/scibert_scivocab_uncased\"\n",
        "#scibert_tokenizer = AutoTokenizer.from_pretrained(checkpoint)\n",
        "#scibert_model = AutoModelForSequenceClassification.from_pretrained(\"roberta-large-mnli\", num_labels=3, id2label=id2label, label2id=label2id)"
      ]
    },
    {
      "cell_type": "code",
      "execution_count": null,
      "metadata": {
        "id": "s3BhC9sAQOe1"
      },
      "outputs": [],
      "source": [
        "def tokenize_text(examples):\n",
        "  return scibert_tokenizer(examples[\"topic_text\"], examples[\"crit_text\"], truncation=True, padding=True, max_length=512)"
      ]
    },
    {
      "cell_type": "code",
      "execution_count": null,
      "metadata": {
        "colab": {
          "base_uri": "https://localhost:8080/",
          "height": 119,
          "referenced_widgets": [
            "72ff9010bada48ea8b242bde3e0ee5b9",
            "43fec61d0fe24a14b4001dd92a1ee4b6",
            "341b46bf46094892bfc71bb382b4cae3",
            "8db8fa1ad88345e19e65565864f288b4",
            "a6ab7e0020af4a9aa1608d9a9c17a5ee",
            "ebf611e672a5433ab5a16c09d3fb3a2a",
            "bf35ae48679341afac02618c34e616a5",
            "c64309a765674e9fa5b9eed736fe7f84",
            "98cc38cade26436990874a113316c5e6",
            "965e334ff14b4b7489ddbab750003633",
            "2e3b6ec7c8274d5786a5f61e209fea81",
            "8b2e7d76a80f425e98d0bf479e0d986b",
            "9258fb213e9a4d898dd3fb1adc461cfe",
            "8ec9334e3916480f918bfba90fbea3d2",
            "17634a9adacc44be8f036abcc23ffe10",
            "d9b07b29af484c0ba7125a02368cc5e1",
            "d4122c13747548fa9340ffa2fdca739d",
            "1a81b5a1e4db4121a0dfad0e872acf2a",
            "27dbf893aead4253a1c20ae109bc3122",
            "5b5893bd8a584f6d887ac28a6b9c29d5",
            "4cff6e9b4b2844fd9567c6cf297addcf",
            "ecac8ef4e1a64644b1a3b75ae92d9701"
          ]
        },
        "id": "P9-KuoE5Kev9",
        "outputId": "a44e66cb-4bb4-4ae9-a54c-f5c3a9e0b90f"
      },
      "outputs": [
        {
          "output_type": "display_data",
          "data": {
            "application/vnd.jupyter.widget-view+json": {
              "model_id": "72ff9010bada48ea8b242bde3e0ee5b9",
              "version_minor": 0,
              "version_major": 2
            },
            "text/plain": [
              "  0%|          | 0/3 [00:00<?, ?ba/s]"
            ]
          },
          "metadata": {}
        },
        {
          "output_type": "stream",
          "name": "stderr",
          "text": [
            "Loading cached processed dataset at /root/.cache/huggingface/datasets/json/default-8df2be64c572bd88/0.0.0/c2d554c3377ea79c7664b93dc65d0803b45e3279000f993c7bfd18937fd7f426/cache-e315b14b785dd254.arrow\n"
          ]
        },
        {
          "output_type": "display_data",
          "data": {
            "application/vnd.jupyter.widget-view+json": {
              "model_id": "8b2e7d76a80f425e98d0bf479e0d986b",
              "version_minor": 0,
              "version_major": 2
            },
            "text/plain": [
              "  0%|          | 0/1 [00:00<?, ?ba/s]"
            ]
          },
          "metadata": {}
        }
      ],
      "source": [
        "ct_dataset = ct_dataset.map(tokenize_text, batched=True)"
      ]
    },
    {
      "cell_type": "code",
      "execution_count": null,
      "metadata": {
        "colab": {
          "base_uri": "https://localhost:8080/"
        },
        "id": "VYiFKhuFKe3x",
        "outputId": "d6edff37-580b-4a3b-ed6d-650cb3e36b72"
      },
      "outputs": [
        {
          "output_type": "execute_result",
          "data": {
            "text/plain": [
              "tensor([0.2868, 0.8191, 0.8941], device='cuda:0')"
            ]
          },
          "metadata": {},
          "execution_count": 36
        }
      ],
      "source": [
        "label_weights = (1 - (ct_dataset_df[\"label\"].value_counts().sort_index() / len(ct_dataset_df))).values\n",
        "label_weights = torch.from_numpy(label_weights).float().to(\"cuda\")\n",
        "label_weights"
      ]
    },
    {
      "cell_type": "code",
      "execution_count": null,
      "metadata": {
        "colab": {
          "base_uri": "https://localhost:8080/"
        },
        "id": "3CevmzDKA_fz",
        "outputId": "78b9d3de-1f0f-4c11-a0c5-97b66f1f502c"
      },
      "outputs": [
        {
          "output_type": "execute_result",
          "data": {
            "text/plain": [
              "DatasetDict({\n",
              "    train: Dataset({\n",
              "        features: ['attention_mask', 'sentence2', 'input_ids', 'labels', 'token_type_ids', 'sentence1'],\n",
              "        num_rows: 2786\n",
              "    })\n",
              "    test: Dataset({\n",
              "        features: ['attention_mask', 'sentence2', 'input_ids', 'labels', 'token_type_ids', 'sentence1'],\n",
              "        num_rows: 774\n",
              "    })\n",
              "    validation: Dataset({\n",
              "        features: ['attention_mask', 'sentence2', 'input_ids', 'labels', 'token_type_ids', 'sentence1'],\n",
              "        num_rows: 310\n",
              "    })\n",
              "})"
            ]
          },
          "metadata": {},
          "execution_count": 37
        }
      ],
      "source": [
        "ct_dataset = ct_dataset.rename_column(\"label\", \"labels\")\n",
        "ct_dataset = ct_dataset.rename_column(\"topic_text\", \"sentence1\")\n",
        "ct_dataset = ct_dataset.rename_column(\"crit_text\", \"sentence2\")\n",
        "ct_dataset"
      ]
    },
    {
      "cell_type": "code",
      "execution_count": null,
      "metadata": {
        "id": "IFcOGpwBSTOp"
      },
      "outputs": [],
      "source": [
        "\n",
        "class WeightedLossTrainer(Trainer):\n",
        "  def compute_loss(self, model, inputs, return_outputs=False):\n",
        "    outputs = model(**inputs)\n",
        "    logits = outputs.get(\"logits\")\n",
        "    labels = inputs.get(\"labels\")\n",
        "    loss_func = nn.CrossEntropyLoss(weight=label_weights)\n",
        "    loss = loss_func(logits, labels)\n",
        "    return (loss, outputs) if return_outputs else loss\n",
        "\n",
        "\n",
        "\n",
        "\n",
        "def compute_metrics(pred):\n",
        "  labels = pred.label_ids\n",
        "  preds = pred.predictions.argmax(-1)\n",
        "  f1 = f1_score(labels, preds, average=\"weighted\")\n",
        "  return {\"f1\":f1}"
      ]
    },
    {
      "cell_type": "code",
      "execution_count": null,
      "metadata": {
        "id": "nvFz4EjXPjfU"
      },
      "outputs": [],
      "source": [
        "batch_size=8\n",
        "logging_steps=len(ct_dataset[\"train\"]) // batch_size\n",
        "output_dir = \"/content/drive/MyDrive/scibert_finetuned_ct\"\n",
        "training_args = TrainingArguments(\n",
        "    output_dir=output_dir,\n",
        "    num_train_epochs=5,\n",
        "    learning_rate=2e-5,\n",
        "    per_device_train_batch_size=batch_size,\n",
        "    per_device_eval_batch_size=batch_size,\n",
        "    weight_decay=0.01,\n",
        "    evaluation_strategy=\"epoch\",\n",
        "    logging_steps=logging_steps\n",
        ")"
      ]
    },
    {
      "cell_type": "code",
      "execution_count": null,
      "metadata": {
        "id": "TLdDWqzKPuAM"
      },
      "outputs": [],
      "source": [
        "trainer = WeightedLossTrainer(\n",
        "    model=scibert_model,\n",
        "    args=training_args,\n",
        "    compute_metrics=compute_metrics,\n",
        "    train_dataset=ct_dataset[\"train\"],\n",
        "    eval_dataset=ct_dataset[\"validation\"],\n",
        "    tokenizer=scibert_tokenizer\n",
        ")"
      ]
    },
    {
      "cell_type": "code",
      "execution_count": null,
      "metadata": {
        "colab": {
          "base_uri": "https://localhost:8080/",
          "height": 1000
        },
        "id": "lKgRn2DnQVkG",
        "outputId": "fcacdde6-c631-4579-8dca-8de20c46f41b"
      },
      "outputs": [
        {
          "output_type": "stream",
          "name": "stderr",
          "text": [
            "The following columns in the training set  don't have a corresponding argument in `BertForSequenceClassification.forward` and have been ignored: sentence1, sentence2.\n",
            "***** Running training *****\n",
            "  Num examples = 2786\n",
            "  Num Epochs = 5\n",
            "  Instantaneous batch size per device = 8\n",
            "  Total train batch size (w. parallel, distributed & accumulation) = 8\n",
            "  Gradient Accumulation steps = 1\n",
            "  Total optimization steps = 1745\n"
          ]
        },
        {
          "output_type": "display_data",
          "data": {
            "text/html": [
              "\n",
              "    <div>\n",
              "      \n",
              "      <progress value='1745' max='1745' style='width:300px; height:20px; vertical-align: middle;'></progress>\n",
              "      [1745/1745 08:18, Epoch 5/5]\n",
              "    </div>\n",
              "    <table border=\"1\" class=\"dataframe\">\n",
              "  <thead>\n",
              "    <tr style=\"text-align: left;\">\n",
              "      <th>Epoch</th>\n",
              "      <th>Training Loss</th>\n",
              "      <th>Validation Loss</th>\n",
              "      <th>F1</th>\n",
              "    </tr>\n",
              "  </thead>\n",
              "  <tbody>\n",
              "    <tr>\n",
              "      <td>1</td>\n",
              "      <td>0.974200</td>\n",
              "      <td>0.850040</td>\n",
              "      <td>0.727109</td>\n",
              "    </tr>\n",
              "    <tr>\n",
              "      <td>2</td>\n",
              "      <td>0.788900</td>\n",
              "      <td>0.769780</td>\n",
              "      <td>0.751413</td>\n",
              "    </tr>\n",
              "    <tr>\n",
              "      <td>3</td>\n",
              "      <td>0.591900</td>\n",
              "      <td>0.843136</td>\n",
              "      <td>0.766166</td>\n",
              "    </tr>\n",
              "    <tr>\n",
              "      <td>4</td>\n",
              "      <td>0.391100</td>\n",
              "      <td>1.043465</td>\n",
              "      <td>0.783333</td>\n",
              "    </tr>\n",
              "    <tr>\n",
              "      <td>5</td>\n",
              "      <td>0.250000</td>\n",
              "      <td>1.111378</td>\n",
              "      <td>0.778273</td>\n",
              "    </tr>\n",
              "  </tbody>\n",
              "</table><p>"
            ],
            "text/plain": [
              "<IPython.core.display.HTML object>"
            ]
          },
          "metadata": {}
        },
        {
          "output_type": "stream",
          "name": "stderr",
          "text": [
            "The following columns in the evaluation set  don't have a corresponding argument in `BertForSequenceClassification.forward` and have been ignored: sentence1, sentence2.\n",
            "***** Running Evaluation *****\n",
            "  Num examples = 310\n",
            "  Batch size = 8\n",
            "Saving model checkpoint to /content/drive/MyDrive/scibert_finetuned_ct/checkpoint-500\n",
            "Configuration saved in /content/drive/MyDrive/scibert_finetuned_ct/checkpoint-500/config.json\n",
            "Model weights saved in /content/drive/MyDrive/scibert_finetuned_ct/checkpoint-500/pytorch_model.bin\n",
            "tokenizer config file saved in /content/drive/MyDrive/scibert_finetuned_ct/checkpoint-500/tokenizer_config.json\n",
            "Special tokens file saved in /content/drive/MyDrive/scibert_finetuned_ct/checkpoint-500/special_tokens_map.json\n",
            "The following columns in the evaluation set  don't have a corresponding argument in `BertForSequenceClassification.forward` and have been ignored: sentence1, sentence2.\n",
            "***** Running Evaluation *****\n",
            "  Num examples = 310\n",
            "  Batch size = 8\n",
            "Saving model checkpoint to /content/drive/MyDrive/scibert_finetuned_ct/checkpoint-1000\n",
            "Configuration saved in /content/drive/MyDrive/scibert_finetuned_ct/checkpoint-1000/config.json\n",
            "Model weights saved in /content/drive/MyDrive/scibert_finetuned_ct/checkpoint-1000/pytorch_model.bin\n",
            "tokenizer config file saved in /content/drive/MyDrive/scibert_finetuned_ct/checkpoint-1000/tokenizer_config.json\n",
            "Special tokens file saved in /content/drive/MyDrive/scibert_finetuned_ct/checkpoint-1000/special_tokens_map.json\n",
            "The following columns in the evaluation set  don't have a corresponding argument in `BertForSequenceClassification.forward` and have been ignored: sentence1, sentence2.\n",
            "***** Running Evaluation *****\n",
            "  Num examples = 310\n",
            "  Batch size = 8\n",
            "The following columns in the evaluation set  don't have a corresponding argument in `BertForSequenceClassification.forward` and have been ignored: sentence1, sentence2.\n",
            "***** Running Evaluation *****\n",
            "  Num examples = 310\n",
            "  Batch size = 8\n",
            "Saving model checkpoint to /content/drive/MyDrive/scibert_finetuned_ct/checkpoint-1500\n",
            "Configuration saved in /content/drive/MyDrive/scibert_finetuned_ct/checkpoint-1500/config.json\n",
            "Model weights saved in /content/drive/MyDrive/scibert_finetuned_ct/checkpoint-1500/pytorch_model.bin\n",
            "tokenizer config file saved in /content/drive/MyDrive/scibert_finetuned_ct/checkpoint-1500/tokenizer_config.json\n",
            "Special tokens file saved in /content/drive/MyDrive/scibert_finetuned_ct/checkpoint-1500/special_tokens_map.json\n",
            "The following columns in the evaluation set  don't have a corresponding argument in `BertForSequenceClassification.forward` and have been ignored: sentence1, sentence2.\n",
            "***** Running Evaluation *****\n",
            "  Num examples = 310\n",
            "  Batch size = 8\n",
            "\n",
            "\n",
            "Training completed. Do not forget to share your model on huggingface.co/models =)\n",
            "\n",
            "\n"
          ]
        },
        {
          "output_type": "execute_result",
          "data": {
            "text/plain": [
              "TrainOutput(global_step=1745, training_loss=0.5980545894464312, metrics={'train_runtime': 498.7527, 'train_samples_per_second': 27.93, 'train_steps_per_second': 3.499, 'total_flos': 3665169908951040.0, 'train_loss': 0.5980545894464312, 'epoch': 5.0})"
            ]
          },
          "metadata": {},
          "execution_count": 41
        }
      ],
      "source": [
        "trainer.train()"
      ]
    },
    {
      "cell_type": "code",
      "execution_count": null,
      "metadata": {
        "colab": {
          "base_uri": "https://localhost:8080/",
          "height": 106
        },
        "id": "p2ltc3cZUTVo",
        "outputId": "3caac57e-aa15-49dc-cbfd-1305fda23d54"
      },
      "outputs": [
        {
          "output_type": "stream",
          "name": "stderr",
          "text": [
            "The following columns in the test set  don't have a corresponding argument in `BertForSequenceClassification.forward` and have been ignored: sentence1, sentence2.\n",
            "***** Running Prediction *****\n",
            "  Num examples = 774\n",
            "  Batch size = 8\n"
          ]
        },
        {
          "output_type": "display_data",
          "data": {
            "text/html": [
              "\n",
              "    <div>\n",
              "      \n",
              "      <progress value='97' max='97' style='width:300px; height:20px; vertical-align: middle;'></progress>\n",
              "      [97/97 00:08]\n",
              "    </div>\n",
              "    "
            ],
            "text/plain": [
              "<IPython.core.display.HTML object>"
            ]
          },
          "metadata": {}
        }
      ],
      "source": [
        "predictions = trainer.predict(ct_dataset[\"test\"])"
      ]
    },
    {
      "cell_type": "code",
      "execution_count": null,
      "metadata": {
        "colab": {
          "base_uri": "https://localhost:8080/"
        },
        "id": "dmVAV9qfUaGh",
        "outputId": "cd0257ae-2d85-4364-c964-c6068bc144fb"
      },
      "outputs": [
        {
          "output_type": "execute_result",
          "data": {
            "text/plain": [
              "{'test_f1': 0.7071605915070596,\n",
              " 'test_loss': 1.5876928567886353,\n",
              " 'test_runtime': 8.4851,\n",
              " 'test_samples_per_second': 91.219,\n",
              " 'test_steps_per_second': 11.432}"
            ]
          },
          "metadata": {},
          "execution_count": 43
        }
      ],
      "source": [
        "predictions.metrics"
      ]
    },
    {
      "cell_type": "code",
      "execution_count": null,
      "metadata": {
        "colab": {
          "base_uri": "https://localhost:8080/"
        },
        "id": "B7vpUZJXWiZj",
        "outputId": "39c6cb5f-5363-4cda-ece9-a129abf0b6cc"
      },
      "outputs": [
        {
          "output_type": "execute_result",
          "data": {
            "text/plain": [
              "DatasetDict({\n",
              "    train: Dataset({\n",
              "        features: ['attention_mask', 'sentence2', 'input_ids', 'labels', 'token_type_ids', 'sentence1'],\n",
              "        num_rows: 2786\n",
              "    })\n",
              "    test: Dataset({\n",
              "        features: ['attention_mask', 'sentence2', 'input_ids', 'labels', 'token_type_ids', 'sentence1'],\n",
              "        num_rows: 774\n",
              "    })\n",
              "    validation: Dataset({\n",
              "        features: ['attention_mask', 'sentence2', 'input_ids', 'labels', 'token_type_ids', 'sentence1'],\n",
              "        num_rows: 310\n",
              "    })\n",
              "})"
            ]
          },
          "metadata": {},
          "execution_count": 44
        }
      ],
      "source": [
        "ct_dataset"
      ]
    },
    {
      "cell_type": "code",
      "execution_count": null,
      "metadata": {
        "id": "i_dDRjAbZfoo"
      },
      "outputs": [],
      "source": [
        "def get_embedding_similarity(topic, document, model, tokenizer):\n",
        "    topic_input = tokenizer(topic, return_tensors='pt').to('cuda')\n",
        "    doc_input = tokenizer(document, return_tensors='pt').to('cuda')\n",
        "    topic_output = model(**topic_input, output_hidden_states=True)\n",
        "    doc_output = model(**doc_input, output_hidden_states=True)\n",
        "    topic_last_hidden = np.squeeze(topic_output.hidden_states[-1].detach().cpu().numpy(), axis=0)\n",
        "    doc_last_hidden = np.squeeze(doc_output.hidden_states[-1].detach().cpu().numpy(), axis=0)\n",
        "    topic_emb = np.mean(topic_last_hidden, axis=0)\n",
        "    doc_emb = np.mean(doc_last_hidden, axis=0)\n",
        "    return dot(topic_emb, doc_emb)/(norm(topic_emb) * norm(doc_emb))"
      ]
    },
    {
      "cell_type": "code",
      "execution_count": null,
      "metadata": {
        "id": "mJdrb5wDUpUw"
      },
      "outputs": [],
      "source": [
        "test_topic = ct_dataset_df.topic_text[34]\n",
        "test_doc = ct_dataset_df.crit_text[34]"
      ]
    },
    {
      "cell_type": "code",
      "execution_count": null,
      "metadata": {
        "colab": {
          "base_uri": "https://localhost:8080/",
          "height": 70
        },
        "id": "aJLnCMnVdrsA",
        "outputId": "5ca72054-5298-4ed2-fb03-439eb3b35f2b"
      },
      "outputs": [
        {
          "output_type": "execute_result",
          "data": {
            "application/vnd.google.colaboratory.intrinsic+json": {
              "type": "string"
            },
            "text/plain": [
              "'A 20 yo female college student with no significant past medical history presents with a chief complaint of fatigue. She reports increased sleep and appetite over the past few months as well as difficulty concentrating on her schoolwork. She no longer enjoys spending time with her friends and feels guilty for not spending more time with her family. Her physical exam and laboratory tests, including hemoglobin, hematocrit and thyroid stimulating hormone, are within normal limits.'"
            ]
          },
          "metadata": {},
          "execution_count": 47
        }
      ],
      "source": [
        "test_topic"
      ]
    },
    {
      "cell_type": "code",
      "execution_count": null,
      "metadata": {
        "colab": {
          "base_uri": "https://localhost:8080/",
          "height": 88
        },
        "id": "O9zGmRv4a-Nt",
        "outputId": "fe23af28-aae8-4f6f-fb4a-44b3fb11324c"
      },
      "outputs": [
        {
          "output_type": "execute_result",
          "data": {
            "application/vnd.google.colaboratory.intrinsic+json": {
              "type": "string"
            },
            "text/plain": [
              "'A primary psychiatric diagnosis of Major Depressive Disorder as defined by: a score of 18 or above in the 17-item Hamilton Depression Scale; Male or female ages 18+; Ability to give consent Diagnosis of Breast Cancer Patients may be either English or Spanish speaking [SEP] Lifetime history of psychosis or bipolar disorder Patients meeting diagnostic statistic manual for mental disorder for alcohol or substance use disorders who require acute detoxification. Current suicide risk. Advanced cancer or other condition that limits remaining life expectancy to less than 6 months. Patients who are receiving effective medication for Depression'"
            ]
          },
          "metadata": {},
          "execution_count": 48
        }
      ],
      "source": [
        "test_doc"
      ]
    },
    {
      "cell_type": "code",
      "execution_count": null,
      "metadata": {
        "colab": {
          "base_uri": "https://localhost:8080/"
        },
        "id": "ZjO1ZhUobHFQ",
        "outputId": "bb70955f-c443-44fa-e9ec-4a33f20eb5d9"
      },
      "outputs": [
        {
          "output_type": "execute_result",
          "data": {
            "text/plain": [
              "0.81593513"
            ]
          },
          "metadata": {},
          "execution_count": 49
        }
      ],
      "source": [
        "get_embedding_similarity(test_topic, test_doc, scibert_model, scibert_tokenizer)"
      ]
    },
    {
      "cell_type": "code",
      "execution_count": null,
      "metadata": {
        "id": "Q_fnLcZiludd"
      },
      "outputs": [],
      "source": [
        "def calc_embedding_scores(topics, docs, model, tokenizer, rel_dict):\n",
        "  embedding_scores = defaultdict(lambda: defaultdict(lambda: defaultdict(float)))\n",
        "  for topic in topics:\n",
        "    for doc in docs:\n",
        "      if doc['id'] in rel_dict[topic['id']]:\n",
        "        embedding_scores[topic['id']][doc['id']][\"include_sim\"] = get_embedding_similarity(\n",
        "                                                      topic['sents'], \n",
        "                                                      doc['include_criteria'],\n",
        "                                                      model,\n",
        "                                                      tokenizer\n",
        "                                                   )\n",
        "        embedding_scores[topic['id']][doc['id']][\"exclude_sim\"] = get_embedding_similarity(\n",
        "                                                      topic['sents'], \n",
        "                                                      doc['exclude_criteria'],\n",
        "                                                      model,\n",
        "                                                      tokenizer\n",
        "                                                   )\n",
        "  return embedding_scores\n",
        "\n"
      ]
    },
    {
      "cell_type": "code",
      "source": [
        "emb_scores = calc_embedding_scores(\n",
        "    topics, \n",
        "    docs, \n",
        "    scibert_model,\n",
        "    scibert_tokenizer,\n",
        "    test_rel_dict\n",
        ")"
      ],
      "metadata": {
        "id": "8DZFiRFZuydu"
      },
      "execution_count": null,
      "outputs": []
    },
    {
      "cell_type": "code",
      "source": [
        "list(emb_scores.items())[0]"
      ],
      "metadata": {
        "colab": {
          "base_uri": "https://localhost:8080/"
        },
        "id": "Ep39yGmUAhBU",
        "outputId": "d44b6f16-9d74-4ee6-9075-080fadbb39ab"
      },
      "execution_count": null,
      "outputs": [
        {
          "output_type": "execute_result",
          "data": {
            "text/plain": [
              "('20141',\n",
              " defaultdict(<function __main__.calc_embedding_scores.<locals>.<lambda>.<locals>.<lambda>>,\n",
              "             {'NCT00000408': defaultdict(float,\n",
              "                          {'exclude_sim': 0.7815711,\n",
              "                           'include_sim': 0.7351871}),\n",
              "              'NCT00000492': defaultdict(float,\n",
              "                          {'exclude_sim': 0.272154,\n",
              "                           'include_sim': 0.67688954}),\n",
              "              'NCT00000501': defaultdict(float,\n",
              "                          {'exclude_sim': 0.63588315,\n",
              "                           'include_sim': 0.82279164}),\n",
              "              'NCT00001853': defaultdict(float,\n",
              "                          {'exclude_sim': 0.8444592,\n",
              "                           'include_sim': 0.79508036}),\n",
              "              'NCT00004727': defaultdict(float,\n",
              "                          {'exclude_sim': 0.81957793,\n",
              "                           'include_sim': 0.85952723}),\n",
              "              'NCT00005127': defaultdict(float,\n",
              "                          {'exclude_sim': 0.272154, 'include_sim': 0.272154}),\n",
              "              'NCT00005485': defaultdict(float,\n",
              "                          {'exclude_sim': 0.272154,\n",
              "                           'include_sim': 0.36966053}),\n",
              "              'NCT00005757': defaultdict(float,\n",
              "                          {'exclude_sim': 0.272154, 'include_sim': 0.272154}),\n",
              "              'NCT00077948': defaultdict(float,\n",
              "                          {'exclude_sim': 0.81291753,\n",
              "                           'include_sim': 0.83455503}),\n",
              "              'NCT00108381': defaultdict(float,\n",
              "                          {'exclude_sim': 0.67459893,\n",
              "                           'include_sim': 0.58368886}),\n",
              "              'NCT00124969': defaultdict(float,\n",
              "                          {'exclude_sim': 0.80452526,\n",
              "                           'include_sim': 0.5295378}),\n",
              "              'NCT00129233': defaultdict(float,\n",
              "                          {'exclude_sim': 0.86233354,\n",
              "                           'include_sim': 0.6619054}),\n",
              "              'NCT00134160': defaultdict(float,\n",
              "                          {'exclude_sim': 0.85855263,\n",
              "                           'include_sim': 0.78922784}),\n",
              "              'NCT00141583': defaultdict(float,\n",
              "                          {'exclude_sim': 0.6422343,\n",
              "                           'include_sim': 0.57581294}),\n",
              "              'NCT00143195': defaultdict(float,\n",
              "                          {'exclude_sim': 0.71015763,\n",
              "                           'include_sim': 0.60114473}),\n",
              "              'NCT00149227': defaultdict(float,\n",
              "                          {'exclude_sim': 0.8546783,\n",
              "                           'include_sim': 0.81426615}),\n",
              "              'NCT00162344': defaultdict(float,\n",
              "                          {'exclude_sim': 0.72281927,\n",
              "                           'include_sim': 0.8634965}),\n",
              "              'NCT00166231': defaultdict(float,\n",
              "                          {'exclude_sim': 0.5144389,\n",
              "                           'include_sim': 0.57297045}),\n",
              "              'NCT00175279': defaultdict(float,\n",
              "                          {'exclude_sim': 0.8140102,\n",
              "                           'include_sim': 0.7935448}),\n",
              "              'NCT00185120': defaultdict(float,\n",
              "                          {'exclude_sim': 0.71704596,\n",
              "                           'include_sim': 0.6119972}),\n",
              "              'NCT00190489': defaultdict(float,\n",
              "                          {'exclude_sim': 0.753375, 'include_sim': 0.7530264}),\n",
              "              'NCT00202566': defaultdict(float,\n",
              "                          {'exclude_sim': 0.6308668,\n",
              "                           'include_sim': 0.59674174}),\n",
              "              'NCT00225355': defaultdict(float,\n",
              "                          {'exclude_sim': 0.81042224,\n",
              "                           'include_sim': 0.78261995}),\n",
              "              'NCT00252421': defaultdict(float,\n",
              "                          {'exclude_sim': 0.816909, 'include_sim': 0.6949291}),\n",
              "              'NCT00285649': defaultdict(float,\n",
              "                          {'exclude_sim': 0.8263269,\n",
              "                           'include_sim': 0.8207699}),\n",
              "              'NCT00337116': defaultdict(float,\n",
              "                          {'exclude_sim': 0.8133648,\n",
              "                           'include_sim': 0.8636767}),\n",
              "              'NCT00348803': defaultdict(float,\n",
              "                          {'exclude_sim': 0.4084533,\n",
              "                           'include_sim': 0.58489907}),\n",
              "              'NCT00356707': defaultdict(float,\n",
              "                          {'exclude_sim': 0.272154, 'include_sim': 0.5534734}),\n",
              "              'NCT00373828': defaultdict(float,\n",
              "                          {'exclude_sim': 0.8846234,\n",
              "                           'include_sim': 0.8426358}),\n",
              "              'NCT00375089': defaultdict(float,\n",
              "                          {'exclude_sim': 0.6205659,\n",
              "                           'include_sim': 0.81695926}),\n",
              "              'NCT00413712': defaultdict(float,\n",
              "                          {'exclude_sim': 0.66615945,\n",
              "                           'include_sim': 0.6751873}),\n",
              "              'NCT00418392': defaultdict(float,\n",
              "                          {'exclude_sim': 0.8326611,\n",
              "                           'include_sim': 0.7972693}),\n",
              "              'NCT00424021': defaultdict(float,\n",
              "                          {'exclude_sim': 0.84452105,\n",
              "                           'include_sim': 0.7865782}),\n",
              "              'NCT00454662': defaultdict(float,\n",
              "                          {'exclude_sim': 0.8201818,\n",
              "                           'include_sim': 0.73460954}),\n",
              "              'NCT00462241': defaultdict(float,\n",
              "                          {'exclude_sim': 0.73958606,\n",
              "                           'include_sim': 0.879927}),\n",
              "              'NCT00479908': defaultdict(float,\n",
              "                          {'exclude_sim': 0.8602999,\n",
              "                           'include_sim': 0.6617816}),\n",
              "              'NCT00486954': defaultdict(float,\n",
              "                          {'exclude_sim': 0.78801864,\n",
              "                           'include_sim': 0.7745767}),\n",
              "              'NCT00536224': defaultdict(float,\n",
              "                          {'exclude_sim': 0.7696563,\n",
              "                           'include_sim': 0.7042323}),\n",
              "              'NCT00598728': defaultdict(float,\n",
              "                          {'exclude_sim': 0.272154, 'include_sim': 0.7440007}),\n",
              "              'NCT00623454': defaultdict(float,\n",
              "                          {'exclude_sim': 0.56776667,\n",
              "                           'include_sim': 0.6981134}),\n",
              "              'NCT00624273': defaultdict(float,\n",
              "                          {'exclude_sim': 0.76876706,\n",
              "                           'include_sim': 0.78492814}),\n",
              "              'NCT00644319': defaultdict(float,\n",
              "                          {'exclude_sim': 0.72756946,\n",
              "                           'include_sim': 0.8001772}),\n",
              "              'NCT00683813': defaultdict(float,\n",
              "                          {'exclude_sim': 0.8265867,\n",
              "                           'include_sim': 0.8635227}),\n",
              "              'NCT00705952': defaultdict(float,\n",
              "                          {'exclude_sim': 0.7022601, 'include_sim': 0.691221}),\n",
              "              'NCT00736333': defaultdict(float,\n",
              "                          {'exclude_sim': 0.6579441,\n",
              "                           'include_sim': 0.4869909}),\n",
              "              'NCT00745043': defaultdict(float,\n",
              "                          {'exclude_sim': 0.65834093,\n",
              "                           'include_sim': 0.6862452}),\n",
              "              'NCT00752674': defaultdict(float,\n",
              "                          {'exclude_sim': 0.5307913,\n",
              "                           'include_sim': 0.7191505}),\n",
              "              'NCT00780260': defaultdict(float,\n",
              "                          {'exclude_sim': 0.51780343,\n",
              "                           'include_sim': 0.53178084}),\n",
              "              'NCT00797953': defaultdict(float,\n",
              "                          {'exclude_sim': 0.8178565,\n",
              "                           'include_sim': 0.8405221}),\n",
              "              'NCT00802230': defaultdict(float,\n",
              "                          {'exclude_sim': 0.8439687,\n",
              "                           'include_sim': 0.82982135}),\n",
              "              'NCT00808652': defaultdict(float,\n",
              "                          {'exclude_sim': 0.805811,\n",
              "                           'include_sim': 0.62993926}),\n",
              "              'NCT00809029': defaultdict(float,\n",
              "                          {'exclude_sim': 0.7560202,\n",
              "                           'include_sim': 0.7820451}),\n",
              "              'NCT00832442': defaultdict(float,\n",
              "                          {'exclude_sim': 0.6054704,\n",
              "                           'include_sim': 0.7599526}),\n",
              "              'NCT00840593': defaultdict(float,\n",
              "                          {'exclude_sim': 0.3868188,\n",
              "                           'include_sim': 0.71627575}),\n",
              "              'NCT00848250': defaultdict(float,\n",
              "                          {'exclude_sim': 0.84020483,\n",
              "                           'include_sim': 0.7416439}),\n",
              "              'NCT00883987': defaultdict(float,\n",
              "                          {'exclude_sim': 0.8612425,\n",
              "                           'include_sim': 0.7882256}),\n",
              "              'NCT00896285': defaultdict(float,\n",
              "                          {'exclude_sim': 0.78948414,\n",
              "                           'include_sim': 0.78642875}),\n",
              "              'NCT00925119': defaultdict(float,\n",
              "                          {'exclude_sim': 0.78051347,\n",
              "                           'include_sim': 0.56199485}),\n",
              "              'NCT00932867': defaultdict(float,\n",
              "                          {'exclude_sim': 0.774495, 'include_sim': 0.7548068}),\n",
              "              'NCT00937365': defaultdict(float,\n",
              "                          {'exclude_sim': 0.7349997,\n",
              "                           'include_sim': 0.6883434}),\n",
              "              'NCT00951808': defaultdict(float,\n",
              "                          {'exclude_sim': 0.84076893,\n",
              "                           'include_sim': 0.8122833}),\n",
              "              'NCT00952744': defaultdict(float,\n",
              "                          {'exclude_sim': 0.79742205,\n",
              "                           'include_sim': 0.9006333}),\n",
              "              'NCT00974116': defaultdict(float,\n",
              "                          {'exclude_sim': 0.7215114,\n",
              "                           'include_sim': 0.77395546}),\n",
              "              'NCT00979199': defaultdict(float,\n",
              "                          {'exclude_sim': 0.8063613, 'include_sim': 0.735686}),\n",
              "              'NCT00986180': defaultdict(float,\n",
              "                          {'exclude_sim': 0.82993364,\n",
              "                           'include_sim': 0.87258345}),\n",
              "              'NCT00992927': defaultdict(float,\n",
              "                          {'exclude_sim': 0.69559, 'include_sim': 0.5929198}),\n",
              "              'NCT01028534': defaultdict(float,\n",
              "                          {'exclude_sim': 0.6910395,\n",
              "                           'include_sim': 0.76982284}),\n",
              "              'NCT01056367': defaultdict(float,\n",
              "                          {'exclude_sim': 0.6201469,\n",
              "                           'include_sim': 0.64016813}),\n",
              "              'NCT01080274': defaultdict(float,\n",
              "                          {'exclude_sim': 0.5243078,\n",
              "                           'include_sim': 0.66327626}),\n",
              "              'NCT01087723': defaultdict(float,\n",
              "                          {'exclude_sim': 0.8095942,\n",
              "                           'include_sim': 0.83189535}),\n",
              "              'NCT01134328': defaultdict(float,\n",
              "                          {'exclude_sim': 0.7901212,\n",
              "                           'include_sim': 0.57207835}),\n",
              "              'NCT01162902': defaultdict(float,\n",
              "                          {'exclude_sim': 0.807036,\n",
              "                           'include_sim': 0.70739186}),\n",
              "              'NCT01167205': defaultdict(float,\n",
              "                          {'exclude_sim': 0.7381854,\n",
              "                           'include_sim': 0.70503676}),\n",
              "              'NCT01171911': defaultdict(float,\n",
              "                          {'exclude_sim': 0.80981576,\n",
              "                           'include_sim': 0.6823248}),\n",
              "              'NCT01175889': defaultdict(float,\n",
              "                          {'exclude_sim': 0.7887885,\n",
              "                           'include_sim': 0.7465928}),\n",
              "              'NCT01203696': defaultdict(float,\n",
              "                          {'exclude_sim': 0.78450626,\n",
              "                           'include_sim': 0.81319207}),\n",
              "              'NCT01211171': defaultdict(float,\n",
              "                          {'exclude_sim': 0.60588264,\n",
              "                           'include_sim': 0.62731457}),\n",
              "              'NCT01216020': defaultdict(float,\n",
              "                          {'exclude_sim': 0.753627, 'include_sim': 0.6895565}),\n",
              "              'NCT01228123': defaultdict(float,\n",
              "                          {'exclude_sim': 0.7292204,\n",
              "                           'include_sim': 0.5235478}),\n",
              "              'NCT01231165': defaultdict(float,\n",
              "                          {'exclude_sim': 0.826053, 'include_sim': 0.8228977}),\n",
              "              'NCT01250262': defaultdict(float,\n",
              "                          {'exclude_sim': 0.8024058,\n",
              "                           'include_sim': 0.66641575}),\n",
              "              'NCT01253486': defaultdict(float,\n",
              "                          {'exclude_sim': 0.50612414,\n",
              "                           'include_sim': 0.51962894}),\n",
              "              'NCT01276548': defaultdict(float,\n",
              "                          {'exclude_sim': 0.79513985,\n",
              "                           'include_sim': 0.7840313}),\n",
              "              'NCT01284179': defaultdict(float,\n",
              "                          {'exclude_sim': 0.81252533,\n",
              "                           'include_sim': 0.8444852}),\n",
              "              'NCT01290770': defaultdict(float,\n",
              "                          {'exclude_sim': 0.65182316,\n",
              "                           'include_sim': 0.6307914}),\n",
              "              'NCT01293019': defaultdict(float,\n",
              "                          {'exclude_sim': 0.6944032,\n",
              "                           'include_sim': 0.79129475}),\n",
              "              'NCT01332188': defaultdict(float,\n",
              "                          {'exclude_sim': 0.7913799,\n",
              "                           'include_sim': 0.57207835}),\n",
              "              'NCT01334203': defaultdict(float,\n",
              "                          {'exclude_sim': 0.7970466,\n",
              "                           'include_sim': 0.80104434}),\n",
              "              'NCT01365286': defaultdict(float,\n",
              "                          {'exclude_sim': 0.66881245,\n",
              "                           'include_sim': 0.7508559}),\n",
              "              'NCT01397994': defaultdict(float,\n",
              "                          {'exclude_sim': 0.80143327,\n",
              "                           'include_sim': 0.8054766}),\n",
              "              'NCT01407146': defaultdict(float,\n",
              "                          {'exclude_sim': 0.50367326,\n",
              "                           'include_sim': 0.5689579}),\n",
              "              'NCT01429194': defaultdict(float,\n",
              "                          {'exclude_sim': 0.8450378,\n",
              "                           'include_sim': 0.8143871}),\n",
              "              'NCT01444833': defaultdict(float,\n",
              "                          {'exclude_sim': 0.5349457,\n",
              "                           'include_sim': 0.51091033}),\n",
              "              'NCT01450020': defaultdict(float,\n",
              "                          {'exclude_sim': 0.7207323,\n",
              "                           'include_sim': 0.84508693}),\n",
              "              'NCT01484912': defaultdict(float,\n",
              "                          {'exclude_sim': 0.8180647,\n",
              "                           'include_sim': 0.86045945}),\n",
              "              'NCT01494870': defaultdict(float,\n",
              "                          {'exclude_sim': 0.43713692,\n",
              "                           'include_sim': 0.7656907}),\n",
              "              'NCT01506999': defaultdict(float,\n",
              "                          {'exclude_sim': 0.7667801,\n",
              "                           'include_sim': 0.8302727}),\n",
              "              'NCT01559948': defaultdict(float,\n",
              "                          {'exclude_sim': 0.70373297,\n",
              "                           'include_sim': 0.75020695}),\n",
              "              'NCT01561001': defaultdict(float,\n",
              "                          {'exclude_sim': 0.7361989,\n",
              "                           'include_sim': 0.73979914}),\n",
              "              'NCT01576978': defaultdict(float,\n",
              "                          {'exclude_sim': 0.7636194,\n",
              "                           'include_sim': 0.7494987}),\n",
              "              'NCT01657136': defaultdict(float,\n",
              "                          {'exclude_sim': 0.77726114,\n",
              "                           'include_sim': 0.6638655}),\n",
              "              'NCT01658033': defaultdict(float,\n",
              "                          {'exclude_sim': 0.7615767,\n",
              "                           'include_sim': 0.7752862}),\n",
              "              'NCT01660594': defaultdict(float,\n",
              "                          {'exclude_sim': 0.6753195,\n",
              "                           'include_sim': 0.68821424}),\n",
              "              'NCT01675362': defaultdict(float,\n",
              "                          {'exclude_sim': 0.75561666,\n",
              "                           'include_sim': 0.73791873}),\n",
              "              'NCT01682057': defaultdict(float,\n",
              "                          {'exclude_sim': 0.74007326,\n",
              "                           'include_sim': 0.6880371}),\n",
              "              'NCT01719952': defaultdict(float,\n",
              "                          {'exclude_sim': 0.8058278,\n",
              "                           'include_sim': 0.80507463}),\n",
              "              'NCT01724567': defaultdict(float,\n",
              "                          {'exclude_sim': 0.80201054,\n",
              "                           'include_sim': 0.58291584}),\n",
              "              'NCT01724996': defaultdict(float,\n",
              "                          {'exclude_sim': 0.83192724,\n",
              "                           'include_sim': 0.78604645}),\n",
              "              'NCT01736306': defaultdict(float,\n",
              "                          {'exclude_sim': 0.5226346,\n",
              "                           'include_sim': 0.7867394}),\n",
              "              'NCT01770080': defaultdict(float,\n",
              "                          {'exclude_sim': 0.8040467,\n",
              "                           'include_sim': 0.8675829}),\n",
              "              'NCT01829659': defaultdict(float,\n",
              "                          {'exclude_sim': 0.7847625,\n",
              "                           'include_sim': 0.82649416}),\n",
              "              'NCT01838616': defaultdict(float,\n",
              "                          {'exclude_sim': 0.79540545,\n",
              "                           'include_sim': 0.811457}),\n",
              "              'NCT01847014': defaultdict(float,\n",
              "                          {'exclude_sim': 0.78834575,\n",
              "                           'include_sim': 0.78463966}),\n",
              "              'NCT01879293': defaultdict(float,\n",
              "                          {'exclude_sim': 0.8294694,\n",
              "                           'include_sim': 0.8348169}),\n",
              "              'NCT01904695': defaultdict(float,\n",
              "                          {'exclude_sim': 0.8379186,\n",
              "                           'include_sim': 0.84948534}),\n",
              "              'NCT02001545': defaultdict(float,\n",
              "                          {'exclude_sim': 0.8290267,\n",
              "                           'include_sim': 0.6678293}),\n",
              "              'NCT02011646': defaultdict(float,\n",
              "                          {'exclude_sim': 0.7618166,\n",
              "                           'include_sim': 0.7428483}),\n",
              "              'NCT02015858': defaultdict(float,\n",
              "                          {'exclude_sim': 0.8456386,\n",
              "                           'include_sim': 0.7017016}),\n",
              "              'NCT02062424': defaultdict(float,\n",
              "                          {'exclude_sim': 0.8673311, 'include_sim': 0.852002}),\n",
              "              'NCT02072694': defaultdict(float,\n",
              "                          {'exclude_sim': 0.86326027,\n",
              "                           'include_sim': 0.80186987}),\n",
              "              'NCT02078921': defaultdict(float,\n",
              "                          {'exclude_sim': 0.7527685,\n",
              "                           'include_sim': 0.8012341}),\n",
              "              'NCT02105220': defaultdict(float,\n",
              "                          {'exclude_sim': 0.7541661,\n",
              "                           'include_sim': 0.66695195}),\n",
              "              'NCT02144636': defaultdict(float,\n",
              "                          {'exclude_sim': 0.80560166,\n",
              "                           'include_sim': 0.6652389}),\n",
              "              'NCT02148289': defaultdict(float,\n",
              "                          {'exclude_sim': 0.6236972, 'include_sim': 0.593567}),\n",
              "              'NCT02158962': defaultdict(float,\n",
              "                          {'exclude_sim': 0.68869, 'include_sim': 0.7387633}),\n",
              "              'NCT02159625': defaultdict(float,\n",
              "                          {'exclude_sim': 0.81216604,\n",
              "                           'include_sim': 0.8789103}),\n",
              "              'NCT02190123': defaultdict(float,\n",
              "                          {'exclude_sim': 0.7577581,\n",
              "                           'include_sim': 0.8617225}),\n",
              "              'NCT02226510': defaultdict(float,\n",
              "                          {'exclude_sim': 0.87032235,\n",
              "                           'include_sim': 0.8315914}),\n",
              "              'NCT02232607': defaultdict(float,\n",
              "                          {'exclude_sim': 0.77476364,\n",
              "                           'include_sim': 0.83904725}),\n",
              "              'NCT02271568': defaultdict(float,\n",
              "                          {'exclude_sim': 0.6427574,\n",
              "                           'include_sim': 0.70586294}),\n",
              "              'NCT02272920': defaultdict(float,\n",
              "                          {'exclude_sim': 0.780396,\n",
              "                           'include_sim': 0.87299055}),\n",
              "              'NCT02319161': defaultdict(float,\n",
              "                          {'exclude_sim': 0.543115, 'include_sim': 0.667168}),\n",
              "              'NCT02347111': defaultdict(float,\n",
              "                          {'exclude_sim': 0.8633917,\n",
              "                           'include_sim': 0.67021424}),\n",
              "              'NCT02357212': defaultdict(float,\n",
              "                          {'exclude_sim': 0.82868594,\n",
              "                           'include_sim': 0.85742885}),\n",
              "              'NCT02381340': defaultdict(float,\n",
              "                          {'exclude_sim': 0.8446617,\n",
              "                           'include_sim': 0.80315423}),\n",
              "              'NCT02390323': defaultdict(float,\n",
              "                          {'exclude_sim': 0.84820956,\n",
              "                           'include_sim': 0.69072664}),\n",
              "              'NCT02408263': defaultdict(float,\n",
              "                          {'exclude_sim': 0.83874375,\n",
              "                           'include_sim': 0.7796536}),\n",
              "              'NCT02472938': defaultdict(float,\n",
              "                          {'exclude_sim': 0.80130357,\n",
              "                           'include_sim': 0.822273}),\n",
              "              'NCT02507050': defaultdict(float,\n",
              "                          {'exclude_sim': 0.78800434,\n",
              "                           'include_sim': 0.7356264}),\n",
              "              'NCT02516839': defaultdict(float,\n",
              "                          {'exclude_sim': 0.8631065,\n",
              "                           'include_sim': 0.8368071}),\n",
              "              'NCT02532699': defaultdict(float,\n",
              "                          {'exclude_sim': 0.84891576,\n",
              "                           'include_sim': 0.7594303}),\n",
              "              'NCT02608255': defaultdict(float,\n",
              "                          {'exclude_sim': 0.8465262,\n",
              "                           'include_sim': 0.8333135}),\n",
              "              'NCT02626741': defaultdict(float,\n",
              "                          {'exclude_sim': 0.7814693,\n",
              "                           'include_sim': 0.7863072})}))"
            ]
          },
          "metadata": {},
          "execution_count": 52
        }
      ]
    },
    {
      "cell_type": "code",
      "source": [
        "def check_embeddings(trials=5, include_or_exclude=\"include_sim\"):\n",
        "  for _ in range(trials):\n",
        "    rnum = int(random.random() * len(emb_scores))\n",
        "    r_topic, r_dict = list(emb_scores.items())[rnum]\n",
        "    rells = get_relled(r_topic, test_rel_dict)\n",
        "    if (len(rells['twos']) == 0) or (len(rells['ones']) == 0) or (len(rells['zeros']) == 0):\n",
        "      continue\n",
        "\n",
        "    r_2doc = random.choice(list(rells['twos']))\n",
        "    print(f\"\\nrandom relevance-scored doc: {r_2doc}\")\n",
        "    rel_score = emb_scores[r_topic][r_2doc][include_or_exclude]\n",
        "    print(f\"similar (relevant) score: {rel_score}\")\n",
        "    r_1doc = random.choice(list(rells['ones']))\n",
        "    rel_score = emb_scores[r_topic][r_1doc][include_or_exclude]\n",
        "    print(f\"dissimilar (partial relevance) score: {rel_score}\")\n",
        "    r_0doc = random.choice(list(rells['zeros']))\n",
        "    rel_score = emb_scores[r_topic][r_0doc][include_or_exclude]\n",
        "    print(f\"dissimilar (no relevance) score: {rel_score}\")\n",
        "\n",
        "\n"
      ],
      "metadata": {
        "id": "RgOD-dSCv1j1"
      },
      "execution_count": null,
      "outputs": []
    },
    {
      "cell_type": "code",
      "source": [
        "check_embeddings()"
      ],
      "metadata": {
        "colab": {
          "base_uri": "https://localhost:8080/"
        },
        "id": "_nKHD3gMzUE2",
        "outputId": "420a8cdc-6d39-4cf4-acdb-aca50b11f8aa"
      },
      "execution_count": null,
      "outputs": [
        {
          "output_type": "stream",
          "name": "stdout",
          "text": [
            "\n",
            "random relevance-scored doc: NCT02380352\n",
            "similar (relevant) score: 0.8363274335861206\n",
            "dissimilar (partial relevance) score: 0.7072935104370117\n",
            "dissimilar (no relevance) score: 0.8627672791481018\n",
            "\n",
            "random relevance-scored doc: NCT01014819\n",
            "similar (relevant) score: 0.785274088382721\n",
            "dissimilar (partial relevance) score: 0.7417327761650085\n",
            "dissimilar (no relevance) score: 0.6528908610343933\n",
            "\n",
            "random relevance-scored doc: NCT00711399\n",
            "similar (relevant) score: 0.5971280336380005\n",
            "dissimilar (partial relevance) score: 0.7072935104370117\n",
            "dissimilar (no relevance) score: 0.8627672791481018\n",
            "\n",
            "random relevance-scored doc: NCT01182597\n",
            "similar (relevant) score: 0.5885850787162781\n",
            "dissimilar (partial relevance) score: 0.7228937745094299\n",
            "dissimilar (no relevance) score: 0.6984370350837708\n"
          ]
        }
      ]
    },
    {
      "cell_type": "code",
      "source": [
        "def eval_embeddings(score_dict, rel_dict, max_rank=1000, inc_or_exc=\"include_sim\"):\n",
        "  MRR1s, MRR2s, MRRs = [], [], []\n",
        "  recall_1s, recall_2s = [], []\n",
        "  recall_maxrank_1s, recall_maxrank_2s = [], []\n",
        "  MRR10s, MRR100s = [], []\n",
        "  MRR10_1s, MRR100_1s, MRR10_2s, MRR100_2s = [], [], [], []\n",
        "  recall_100_1s, recall_100_2s, recall_1000_1s, recall_1000_2s = [], [], [], []\n",
        "\n",
        "  for topic_id in score_dict:\n",
        "    MRR1, MRR2, MRR = 0., 0, 0.\n",
        "    recall_1, recall_2 = 0., 0.\n",
        "    MRR10_1, MRR10_2, MRR100_1, MRR100_2 = 0., 0., 0., 0.\n",
        "    MRR10, MRR100 = 0, 0\n",
        "    recall_100_1, recall_100_2 = 0., 0.\n",
        "    recall_1000_1, recall_1000_2 = 0., 0.\n",
        "    recall_maxrank_1, recall_maxrank_2 = 0., 0.\n",
        "    rells = get_relled(topic_id, rel_dict)\n",
        "    total_2s = len(rells['twos'])\n",
        "    total_1s = len(rells['ones'])\n",
        "\n",
        "   \n",
        "    if len(score_dict[topic_id]) == 0:\n",
        "      continue\n",
        "\n",
        "    if inc_or_exc == \"combined\":\n",
        "      mini_score_dict = score_dict[topic_id]\n",
        "    else:\n",
        "      mini_score_dict = {docid:d[inc_or_exc] for docid, d in score_dict[topic_id].items()}   #{docid:{inc_score, docid:score,... }\n",
        "      \n",
        "          \n",
        "    if inc_or_exc in {\"include_sim\", \"combined\"}:\n",
        "      reverse = True\n",
        "    else:\n",
        "      reverse = False\n",
        "\n",
        "    for i, doc_id in enumerate(sorted(mini_score_dict, key=mini_score_dict.get, reverse=reverse)):\n",
        "     \n",
        "      if doc_id not in rel_dict[topic_id]:\n",
        "        continue\n",
        "\n",
        "      if rel_dict[topic_id][doc_id] == 2:\n",
        "        \n",
        "        if MRR2 == 0:\n",
        "          MRR2 = 1 / (1 + i)\n",
        "\n",
        "        if i <= max_rank:\n",
        "          recall_maxrank_2 += 1\n",
        "\n",
        "        if (i <= 10) and (MRR10_2 == 0):\n",
        "          MRR10_2 = 1 / (i + 1)\n",
        "          \n",
        "        if (i <= 100) and (MRR100_2 == 0):\n",
        "          MRR100_2 = 1 / (1 + i)\n",
        "\n",
        "\n",
        "        if i <  total_2s:\n",
        "          recall_2 += 1\n",
        "\n",
        "\n",
        "        if i < 100:\n",
        "          recall_100_2 += 1\n",
        "\n",
        "        if i < 1000:\n",
        "          recall_1000_2 += 1\n",
        "\n",
        "      if rel_dict[topic_id][doc_id] == 1:\n",
        "        if MRR1 == 0:\n",
        "          MRR1 = 1 / (1 + i)\n",
        "\n",
        "\n",
        "        if (i <= 10) and (MRR10_1 == 0):\n",
        "          MRR10_1 = 1 / (i + 1)\n",
        "          \n",
        "        if (i <= 100) and (MRR100_1 == 0):\n",
        "          MRR100_1 = 1 / (1 + i)\n",
        "\n",
        "        \n",
        "        if i < 100:\n",
        "          recall_100_1 += 1\n",
        "\n",
        "        if i < 1000:\n",
        "          recall_1000_1 += 1\n",
        "\n",
        "\n",
        "\n",
        "        if i < max_rank:\n",
        "          recall_maxrank_1 += 1\n",
        "        if i <= total_1s + total_2s:\n",
        "          recall_1 += 1\n",
        "\n",
        "      MRR1s.append(MRR1)\n",
        "      MRR2s.append(MRR2)\n",
        "      MRRs.append(max(MRR1, MRR2))\n",
        "      r1 =  (recall_1 / total_1s) if (total_1s > 0) else 1\n",
        "      r2 =  (recall_2 / total_2s) if (total_2s > 0) else 1\n",
        "      recall_1s.append(r1)\n",
        "      recall_2s.append(r2)\n",
        "      rmax1 = (recall_maxrank_1 / total_1s) if (total_1s > 0) else 1\n",
        "      rmax2 = (recall_maxrank_2 / total_2s) if (total_2s > 0) else 1\n",
        "      recall_maxrank_1s.append(rmax1)\n",
        "      recall_maxrank_2s.append(rmax2)\n",
        "\n",
        "      MRR10s.append(max(MRR10_1, MRR10_2))\n",
        "      MRR100s.append(max(MRR100_1, MRR100_2))\n",
        "      MRR10_1s.append(MRR10_1)\n",
        "      MRR100_1s.append(MRR100_1)\n",
        "      MRR10_2s.append(MRR10_2)\n",
        "      MRR100_2s.append(MRR100_2)\n",
        "\n",
        "      rr100_1 = 1 if (total_1s == 0) else (recall_100_1 / total_1s)\n",
        "      rr100_2 = 1 if (total_2s == 0) else (recall_100_2 / total_2s)\n",
        "      rr1000_1 = 1 if (total_1s == 0) else (recall_1000_1 / total_1s)\n",
        "      rr1000_2 = 1 if (total_2s == 0) else (recall_1000_2 / total_2s)\n",
        "      recall_100_1s.append(rr100_1)\n",
        "      recall_1000_1s.append(rr1000_1)\n",
        "      recall_100_2s.append(rr100_2)\n",
        "      recall_1000_2s.append(rr1000_2)\n",
        "\n",
        "  mean_MRR10 = 0 if (len(MRR10s) == 0) else (sum(MRR10s) / len(MRR10s))\n",
        "  mean_MRR100 = 0 if (len(MRR100s) == 0) else (sum(MRR100s) / len(MRR100s))\n",
        "  mean_recall_100_1 = 1 if (len(recall_100_1s) == 0) else (sum(recall_100_1s) / len(recall_100_1s))\n",
        "  mean_recall_1000_1 = 1 if (len(recall_1000_1s) == 0) else (sum(recall_1000_1s) / len(recall_1000_1s))\n",
        "  mean_recall_100_2 = 1 if (len(recall_100_2s) == 0) else (sum(recall_100_2s) / len(recall_100_2s))\n",
        "  mean_recall_1000_2 = 1 if (len(recall_1000_2s) == 0) else (sum(recall_1000_2s) / len(recall_1000_2s))\n",
        "\n",
        "\n",
        "  print(f\"Mean MRR1: {sum(MRR1s) / len(MRR1s)}\")\n",
        "  print(f\"Mean MRR2: {sum(MRR2s) / len(MRR2s)}\")\n",
        "  print(f\"Mean MRR: {sum(MRRs) / len(MRRs)}\")\n",
        "  print(f\"Mean recall 1s: {sum(recall_1s) / len(recall_1s)}\")\n",
        "  print(f\"Mean recall 2s: {sum(recall_2s) / len(recall_2s)}\")\n",
        "  print(f\"recall\\@1000 1s: {sum(recall_maxrank_1s) / len(recall_maxrank_1s)}\")\n",
        "  print(f\"recall\\@1000 2s: {sum(recall_maxrank_2s) / len(recall_maxrank_2s)}\")  \n",
        "\n",
        "  print(f\"MRR@10: {mean_MRR10}, MRR@100: {mean_MRR100}\")\n",
        "  print(f\"recall_1@100: {mean_recall_100_1}, recall_2@100: {mean_recall_100_2}, recall_1@1000: {mean_recall_1000_1}, recall_2@1000: {mean_recall_1000_2}\")\n",
        "\n",
        "\n",
        "\n",
        "def compute_mixed_scores(score_dict, W=0.3, embed_scores=False):\n",
        "  new_score_dict = defaultdict(lambda : defaultdict(float))\n",
        "  if embed_scores:\n",
        "    inc_field = \"include_sim\"\n",
        "    exc_field = \"exclude_sim\"\n",
        "  else:\n",
        "    inc_field = \"include_score\"\n",
        "    exc_field = \"exclude_score\"\n",
        "\n",
        "  for topic_id in score_dict:\n",
        "    for doc_id in score_dict[topic_id]:\n",
        "\n",
        "      inc_score = score_dict[topic_id][doc_id][inc_field]\n",
        "      exc_score = score_dict[topic_id][doc_id][exc_field]\n",
        "      new_score_dict[topic_id][doc_id] = inc_score - W * exc_score\n",
        "  return new_score_dict\n",
        "\n"
      ],
      "metadata": {
        "id": "dzKzeZzR5oo4"
      },
      "execution_count": null,
      "outputs": []
    },
    {
      "cell_type": "code",
      "source": [
        "eval_embeddings(emb_scores, test_rel_dict, inc_or_exc=\"include_sim\")"
      ],
      "metadata": {
        "colab": {
          "base_uri": "https://localhost:8080/"
        },
        "id": "ak_T4yuc5orm",
        "outputId": "53381d87-8707-4de8-a445-eafbcbd118ec"
      },
      "execution_count": null,
      "outputs": [
        {
          "output_type": "stream",
          "name": "stdout",
          "text": [
            "Mean MRR1: 0.40928436754651953\n",
            "Mean MRR2: 0.3806778937110325\n",
            "Mean MRR: 0.6295915832207045\n",
            "Mean recall 1s: 0.3197190082116082\n",
            "Mean recall 2s: 0.18630975617286313\n",
            "recall\\@1000 1s: 0.547854203511416\n",
            "recall\\@1000 2s: 0.5166933149759483\n",
            "MRR@10: 0.6267382015056329, MRR@100: 0.6295915832207045\n",
            "recall_1@100: 0.5418205407214062, recall_2@100: 0.5121688265741539, recall_1@1000: 0.547854203511416, recall_2@1000: 0.5166933149759483\n"
          ]
        }
      ]
    },
    {
      "cell_type": "code",
      "source": [
        "eval_embeddings(emb_scores, test_rel_dict, inc_or_exc=\"exclude_sim\")"
      ],
      "metadata": {
        "colab": {
          "base_uri": "https://localhost:8080/"
        },
        "id": "BWq7mVSu5ouQ",
        "outputId": "29323b5d-b9e0-4d1b-ced3-db36be3c3597"
      },
      "execution_count": null,
      "outputs": [
        {
          "output_type": "stream",
          "name": "stdout",
          "text": [
            "Mean MRR1: 0.421966634077602\n",
            "Mean MRR2: 0.37399628303282517\n",
            "Mean MRR: 0.6172588768496162\n",
            "Mean recall 1s: 0.2765018379483627\n",
            "Mean recall 2s: 0.23289606435452237\n",
            "recall\\@1000 1s: 0.5314614728227929\n",
            "recall\\@1000 2s: 0.6022656760135258\n",
            "MRR@10: 0.6157334604815178, MRR@100: 0.6172588768496162\n",
            "recall_1@100: 0.5254088026978846, recall_2@100: 0.5970566452391383, recall_1@1000: 0.5314614728227929, recall_2@1000: 0.6022656760135258\n"
          ]
        }
      ]
    },
    {
      "cell_type": "code",
      "source": [
        "combined_emb_scores = compute_mixed_scores(emb_scores, W=1, embed_scores=True)"
      ],
      "metadata": {
        "id": "KT2iosq_IOsu"
      },
      "execution_count": null,
      "outputs": []
    },
    {
      "cell_type": "code",
      "source": [
        "eval_embeddings(combined_emb_scores, test_rel_dict, inc_or_exc=\"combined\")"
      ],
      "metadata": {
        "colab": {
          "base_uri": "https://localhost:8080/"
        },
        "id": "Wi9uepcNImRX",
        "outputId": "4844f7f2-8fc5-439a-ec9c-871f5734815b"
      },
      "execution_count": null,
      "outputs": [
        {
          "output_type": "stream",
          "name": "stdout",
          "text": [
            "Mean MRR1: 0.470387423265137\n",
            "Mean MRR2: 0.36767973905559154\n",
            "Mean MRR: 0.6468294160759669\n",
            "Mean recall 1s: 0.31553426605470636\n",
            "Mean recall 2s: 0.20296634361859323\n",
            "recall\\@1000 1s: 0.5704371196870445\n",
            "recall\\@1000 2s: 0.6086307165159678\n",
            "MRR@10: 0.6455557606332826, MRR@100: 0.6468294160759669\n",
            "recall_1@100: 0.564804469473151, recall_2@100: 0.6047005221447148, recall_1@1000: 0.5704371196870445, recall_2@1000: 0.6086307165159678\n"
          ]
        }
      ]
    },
    {
      "cell_type": "code",
      "source": [],
      "metadata": {
        "id": "sy6TEtmNwmcW"
      },
      "execution_count": null,
      "outputs": []
    },
    {
      "cell_type": "code",
      "source": [],
      "metadata": {
        "id": "Pd--heF5wmlc"
      },
      "execution_count": null,
      "outputs": []
    },
    {
      "cell_type": "code",
      "source": [
        "import json\n",
        "combined_score_path = '/content/drive/MyDrive/ct_data/combined_scores'\n",
        "\n",
        "with open(combined_score_path, 'r') as rf:\n",
        "  sparse_scores = json.load(rf)"
      ],
      "metadata": {
        "id": "aezPQEuHwmrn"
      },
      "execution_count": null,
      "outputs": []
    },
    {
      "cell_type": "code",
      "source": [
        "def combine_scores(scores1, scores2, W=1):\n",
        "  new_scores = defaultdict(lambda:defaultdict(float))\n",
        "  for topic_id in scores1:\n",
        "    for doc_id in scores1[topic_id]:\n",
        "      new_scores[topic_id][doc_id] = scores1[topic_id][doc_id] + W * scores2[topic_id][doc_id]\n",
        "  return new_scores"
      ],
      "metadata": {
        "id": "3pvvZ3BBxx_l"
      },
      "execution_count": null,
      "outputs": []
    },
    {
      "cell_type": "code",
      "source": [
        "# normaliuze sparse scores\n",
        "\n",
        "def get_max_score(scores):\n",
        "  min_score = 999.0\n",
        "  max_score = 0.0\n",
        "  for topic in scores:\n",
        "    for doc in scores[topic]:\n",
        "      if scores[topic][doc] > max_score:\n",
        "        max_score = scores[topic][doc]\n",
        "\n",
        "      if scores[topic][doc] < min_score:\n",
        "        min_score = scores[topic][doc]\n",
        "  return min_score, max_score\n",
        "\n",
        "def normalize_sparse_scores(sparse_scores):\n",
        "  min_score, max_score = get_max_score(sparse_scores)\n",
        "\n",
        "  # first get them all > 0, new min is 0\n",
        "  new_scores = defaultdict(lambda:defaultdict(float))\n",
        "  for topic in sparse_scores:\n",
        "    for doc in sparse_scores[topic]:\n",
        "      if min_score < 0:\n",
        "        offset = -1 * min_score\n",
        "      else:\n",
        "        offset = 0\n",
        "\n",
        "      new_scores[topic][doc] = (sparse_scores[topic][doc] + offset) / max_score\n",
        "  return new_scores\n",
        "      \n",
        "\n",
        "  "
      ],
      "metadata": {
        "id": "9TQjWZF5za3b"
      },
      "execution_count": null,
      "outputs": []
    },
    {
      "cell_type": "code",
      "source": [
        "new_sparse_scores = normalize_sparse_scores(sparse_scores)"
      ],
      "metadata": {
        "id": "_vGfGNMc3Q9P"
      },
      "execution_count": null,
      "outputs": []
    },
    {
      "cell_type": "code",
      "source": [
        "new_emb_scores = defaultdict(lambda: defaultdict(float))\n",
        "for topic_id, scores in emb_scores.items():\n",
        "  for doc_id, scores2 in scores.items(): \n",
        "    new_emb_scores[topic_id][doc_id] = sum(scores2.values()) / 2\n",
        "    "
      ],
      "metadata": {
        "id": "orgvM0Pa2DSQ"
      },
      "execution_count": null,
      "outputs": []
    },
    {
      "cell_type": "code",
      "source": [
        "#list(new_emb_scores.items())[0]"
      ],
      "metadata": {
        "id": "_9HfM3bk49YO"
      },
      "execution_count": null,
      "outputs": []
    },
    {
      "cell_type": "code",
      "source": [
        "new_scores = combine_scores(new_emb_scores, new_sparse_scores)"
      ],
      "metadata": {
        "id": "h7XjRTalyhGr"
      },
      "execution_count": null,
      "outputs": []
    },
    {
      "cell_type": "code",
      "source": [],
      "metadata": {
        "colab": {
          "base_uri": "https://localhost:8080/"
        },
        "id": "H-oQFH7Pyptw",
        "outputId": "45a06a84-d9d1-4cd9-8503-b9fdd6657799"
      },
      "execution_count": null,
      "outputs": [
        {
          "output_type": "execute_result",
          "data": {
            "text/plain": [
              "defaultdict(<function __main__.combine_scores.<locals>.<lambda>>,\n",
              "            {'20141': defaultdict(float, {'NCT00004727': 1.624571447475933})})"
            ]
          },
          "metadata": {},
          "execution_count": 121
        }
      ]
    },
    {
      "cell_type": "code",
      "source": [
        "def evaluate_combined(score_dict, rel_dict, max_rank=1000):\n",
        "  recall_2s, recall_1s = [], []\n",
        "  recall_maxrank_2s, recall_maxrank_1s =  [], []\n",
        "  MRR1s, MRR2s, MRRs = [], [], []\n",
        "  MRR10s, MRR100s = [], []\n",
        "  MRR10_1s, MRR100_1s, MRR10_2s, MRR100_2s  = [], [], [], []\n",
        "  recall_100_1s, recall_100_2s, recall_1000_1s, recall_1000_2s = [], [], [], [] \n",
        "\n",
        "  for topic_id in score_dict:\n",
        "    relled = get_relled(topic_id, rel_dict)\n",
        "    total_2s = len(relled['twos'])\n",
        "    total_1s = len(relled['ones'])\n",
        "    recall_2, recall_1 = 0., 0.\n",
        "    recall_maxrank_2, recall_maxrank_1 = 0., 0.\n",
        "    MRR1, MRR2 = 0., 0.\n",
        "    MRR10_1, MRR10_2, MRR100_1, MRR100_2 = 0., 0., 0., 0.\n",
        "    recall_100_1, recall_100_2, recall_1000_1, recall_1000_2 = 0., 0., 0., 0.\n",
        "    for i, doc_id in enumerate(sorted(score_dict[topic_id], key=score_dict[topic_id].get, reverse=True)):\n",
        "      if i > max_rank:\n",
        "        break\n",
        "\n",
        "      \n",
        "      if doc_id in rel_dict[topic_id]:\n",
        "        actual_rel = rel_dict[topic_id][doc_id]\n",
        "      else:\n",
        "        actual_rel = 0\n",
        "\n",
        "      #print(topic_id, doc_id, score_dict[topic_id][doc_id], actual_rel, i)\n",
        "      if actual_rel == 2:\n",
        "        if MRR2 == 0:\n",
        "          MRR2 = 1 / (i + 1)\n",
        "\n",
        "        if i <= total_2s:\n",
        "          if (i <= 10) and (MRR10_2 == 0):\n",
        "            MRR10_2 = 1 / (i + 1)\n",
        "          \n",
        "          if (i <= 100) and (MRR100_2 == 0):\n",
        "            MRR100_2 = 1 / (1 + i)\n",
        "\n",
        "\n",
        "\n",
        "          if i < 100:\n",
        "            recall_100_2 += 1\n",
        "\n",
        "          if i < 1000:\n",
        "            recall_1000_2 += 1\n",
        "          recall_2 += 1\n",
        "\n",
        "        \n",
        "        recall_maxrank_2 += 1\n",
        "      elif actual_rel == 1:\n",
        "        if (i <= 10) and (MRR10_1 == 0):\n",
        "            MRR10_1 = 1 / (i + 1)\n",
        "\n",
        "        if (i <= 10) and (MRR100_1 == 0):\n",
        "            MRR100_1 = 1 / (i + 1)\n",
        "\n",
        "        if i < 100:\n",
        "          recall_100_1 += 1\n",
        "\n",
        "        if i < 1000:\n",
        "          recall_1000_1 += 1\n",
        "\n",
        "\n",
        "        if MRR1 == 0:\n",
        "          MRR1 = 1 / (i + 1)\n",
        "        if i <= total_1s + total_2s:\n",
        "          recall_1 += 1\n",
        "        recall_maxrank_1 += 1\n",
        "    MRR = max(MRR1, MRR2)\n",
        "    r2 = 1 if (total_2s == 0) else (recall_2 / total_2s)\n",
        "    r1 = 1 if (total_1s == 0) else (recall_1 / total_1s)\n",
        "    recall_2s.append(r2)\n",
        "    recall_1s.append(r1)\n",
        "    rm2 = 1 if (total_2s == 0) else (recall_maxrank_2 / total_2s)\n",
        "    rm1 = 1 if (total_1s == 0) else (recall_maxrank_1 / total_1s)\n",
        "    recall_maxrank_2s.append(rm2)\n",
        "    recall_maxrank_1s.append(rm1)\n",
        "    MRR1s.append(MRR1)\n",
        "    MRR2s.append(MRR2)\n",
        "    MRRs.append(MRR)\n",
        "    MRR10s.append(max(MRR10_1, MRR10_2))\n",
        "    MRR100s.append(max(MRR100_1, MRR100_2))\n",
        "    MRR10_1s.append(MRR10_1)\n",
        "    MRR100_1s.append(MRR100_1)\n",
        "    MRR10_2s.append(MRR10_2)\n",
        "    MRR100_2s.append(MRR100_2)\n",
        "\n",
        "    rr100_1 = 1 if (total_1s == 0) else (recall_100_1 / total_1s)\n",
        "    rr100_2 = 1 if (total_2s == 0) else (recall_100_2 / total_2s)\n",
        "    rr1000_1 = 1 if (total_1s == 0) else (recall_1000_1 / total_1s)\n",
        "    rr1000_2 = 1 if (total_2s == 0) else (recall_1000_2 / total_2s)\n",
        "    recall_100_1s.append(rr100_1)\n",
        "    recall_1000_1s.append(rr1000_1)\n",
        "    recall_100_2s.append(rr100_2)\n",
        "    recall_1000_2s.append(rr1000_2)\n",
        "\n",
        "  mean_MRR10 = 0 if (len(MRR10s) == 0) else (sum(MRR10s) / len(MRR10s))\n",
        "  mean_MRR100 = 0 if (len(MRR100s) == 0) else (sum(MRR100s) / len(MRR100s))\n",
        "  mean_recall_100_1 = 1 if (len(recall_100_1s) == 0) else (sum(recall_100_1s) / len(recall_100_1s))\n",
        "  mean_recall_1000_1 = 1 if (len(recall_1000_1s) == 0) else (sum(recall_1000_1s) / len(recall_1000_1s))\n",
        "  mean_recall_100_2 = 1 if (len(recall_100_2s) == 0) else (sum(recall_100_2s) / len(recall_100_2s))\n",
        "  mean_recall_1000_2 = 1 if (len(recall_1000_2s) == 0) else (sum(recall_1000_2s) / len(recall_1000_2s))\n",
        "  mean_MRR = 0 if (len(MRRs) == 0) else (sum(MRRs) / len(MRRs))\n",
        "  mean_MRR1 = 0 if (len(MRR1s) == 0) else (sum(MRR1s) / len(MRR1s))\n",
        "  mean_MRR2 = 0 if (len(MRR2s) == 0) else (sum(MRR2s) / len(MRR2s))\n",
        "  mean_recall_2s = 1 if (len(recall_2s) == 0) else (sum(recall_2s) / len(recall_2s))\n",
        "  mean_recall_1s = 1 if (len(recall_1s) == 0) else (sum(recall_1s) / len(recall_1s))\n",
        "  mean_recall_maxrank_2s = 1 if (len(recall_maxrank_2s) == 0) else (sum(recall_maxrank_2s) / len(recall_maxrank_2s))\n",
        "  mean_recall_maxrank_1s = 1 if (len(recall_maxrank_1s) == 0) else (sum(recall_maxrank_1s) / len(recall_maxrank_1s))\n",
        "\n",
        "  print(f\"mean MRR: {mean_MRR}, mean MRR2: {mean_MRR2}, mean MRR1: {mean_MRR1}\")\n",
        "  print(f\"mean recall_2s: {mean_recall_2s}, mean recall_1s: {mean_recall_1s}\")\n",
        "  print(f\"mean recall\\@{max_rank}_2s: {mean_recall_maxrank_2s}, mean recall\\@{max_rank}_1s: {mean_recall_maxrank_1s}\")\n",
        "  print(f\"MRR@10: {mean_MRR10}, MRR@100: {mean_MRR100}\")\n",
        "  print(f\"recall_1@100: {mean_recall_100_1}, recall_2@100: {mean_recall_100_2}, recall_1@1000: {mean_recall_1000_1}, recall_2@1000: {mean_recall_1000_2}\")\n",
        "  return\n"
      ],
      "metadata": {
        "id": "IDdjX_-myhIj"
      },
      "execution_count": null,
      "outputs": []
    },
    {
      "cell_type": "code",
      "source": [
        "evaluate_combined(new_scores, rel_dict=test_rel_dict)"
      ],
      "metadata": {
        "colab": {
          "base_uri": "https://localhost:8080/"
        },
        "id": "C1vi0xnSyhKg",
        "outputId": "3c23d32d-f916-4cf6-b02a-a6c2f5bb8e99"
      },
      "execution_count": null,
      "outputs": [
        {
          "output_type": "stream",
          "name": "stdout",
          "text": [
            "mean MRR: 0.5651466236211998, mean MRR2: 0.31843782391994896, mean MRR1: 0.3872345262438956\n",
            "mean recall_2s: 0.25815521971296024, mean recall_1s: 0.4137773347681994\n",
            "mean recall\\@1000_2s: 1.0, mean recall\\@1000_1s: 1.0\n",
            "MRR@10: 0.5564843348741653, MRR@100: 0.5564843348741653\n",
            "recall_1@100: 0.9865995125217457, recall_2@100: 0.25815521971296024, recall_1@1000: 1.0, recall_2@1000: 0.25815521971296024\n"
          ]
        }
      ]
    },
    {
      "cell_type": "code",
      "source": [],
      "metadata": {
        "id": "-V5BPhr7yhMj"
      },
      "execution_count": null,
      "outputs": []
    },
    {
      "cell_type": "code",
      "source": [],
      "metadata": {
        "id": "kxDwQ_EryhOh"
      },
      "execution_count": null,
      "outputs": []
    }
  ],
  "metadata": {
    "accelerator": "GPU",
    "colab": {
      "machine_shape": "hm",
      "provenance": [],
      "authorship_tag": "ABX9TyPlGqVGyZKBj4shrlJQZTSt",
      "include_colab_link": true
    },
    "kernelspec": {
      "display_name": "Python 3",
      "name": "python3"
    },
    "language_info": {
      "name": "python"
    },
    "widgets": {
      "application/vnd.jupyter.widget-state+json": {
        "51360c5111a84788834de3c5dc1be849": {
          "model_module": "@jupyter-widgets/controls",
          "model_name": "HBoxModel",
          "model_module_version": "1.5.0",
          "state": {
            "_view_name": "HBoxView",
            "_dom_classes": [],
            "_model_name": "HBoxModel",
            "_view_module": "@jupyter-widgets/controls",
            "_model_module_version": "1.5.0",
            "_view_count": null,
            "_view_module_version": "1.5.0",
            "box_style": "",
            "layout": "IPY_MODEL_6ed4d930fac740eb9d393d51af327d54",
            "_model_module": "@jupyter-widgets/controls",
            "children": [
              "IPY_MODEL_4821813835394eb18e5a54f7783a7bbc",
              "IPY_MODEL_b1da1f5840d3459cae65f7a42f562472",
              "IPY_MODEL_6e079df73ce44d21b3bf9ab645baf2f0"
            ]
          }
        },
        "6ed4d930fac740eb9d393d51af327d54": {
          "model_module": "@jupyter-widgets/base",
          "model_name": "LayoutModel",
          "model_module_version": "1.2.0",
          "state": {
            "_view_name": "LayoutView",
            "grid_template_rows": null,
            "right": null,
            "justify_content": null,
            "_view_module": "@jupyter-widgets/base",
            "overflow": null,
            "_model_module_version": "1.2.0",
            "_view_count": null,
            "flex_flow": null,
            "width": null,
            "min_width": null,
            "border": null,
            "align_items": null,
            "bottom": null,
            "_model_module": "@jupyter-widgets/base",
            "top": null,
            "grid_column": null,
            "overflow_y": null,
            "overflow_x": null,
            "grid_auto_flow": null,
            "grid_area": null,
            "grid_template_columns": null,
            "flex": null,
            "_model_name": "LayoutModel",
            "justify_items": null,
            "grid_row": null,
            "max_height": null,
            "align_content": null,
            "visibility": null,
            "align_self": null,
            "height": null,
            "min_height": null,
            "padding": null,
            "grid_auto_rows": null,
            "grid_gap": null,
            "max_width": null,
            "order": null,
            "_view_module_version": "1.2.0",
            "grid_template_areas": null,
            "object_position": null,
            "object_fit": null,
            "grid_auto_columns": null,
            "margin": null,
            "display": null,
            "left": null
          }
        },
        "4821813835394eb18e5a54f7783a7bbc": {
          "model_module": "@jupyter-widgets/controls",
          "model_name": "HTMLModel",
          "model_module_version": "1.5.0",
          "state": {
            "_view_name": "HTMLView",
            "style": "IPY_MODEL_900ccf29f1e04be392976c093f2cdda2",
            "_dom_classes": [],
            "description": "",
            "_model_name": "HTMLModel",
            "placeholder": "​",
            "_view_module": "@jupyter-widgets/controls",
            "_model_module_version": "1.5.0",
            "value": "100%",
            "_view_count": null,
            "_view_module_version": "1.5.0",
            "description_tooltip": null,
            "_model_module": "@jupyter-widgets/controls",
            "layout": "IPY_MODEL_e5aa695503d54f5787e57dd600fa32e3"
          }
        },
        "b1da1f5840d3459cae65f7a42f562472": {
          "model_module": "@jupyter-widgets/controls",
          "model_name": "FloatProgressModel",
          "model_module_version": "1.5.0",
          "state": {
            "_view_name": "ProgressView",
            "style": "IPY_MODEL_e4b61449e6714f75b625cc6622bcf0c7",
            "_dom_classes": [],
            "description": "",
            "_model_name": "FloatProgressModel",
            "bar_style": "success",
            "max": 1,
            "_view_module": "@jupyter-widgets/controls",
            "_model_module_version": "1.5.0",
            "value": 1,
            "_view_count": null,
            "_view_module_version": "1.5.0",
            "orientation": "horizontal",
            "min": 0,
            "description_tooltip": null,
            "_model_module": "@jupyter-widgets/controls",
            "layout": "IPY_MODEL_1034e1395dc442ff92de775f8b6878f6"
          }
        },
        "6e079df73ce44d21b3bf9ab645baf2f0": {
          "model_module": "@jupyter-widgets/controls",
          "model_name": "HTMLModel",
          "model_module_version": "1.5.0",
          "state": {
            "_view_name": "HTMLView",
            "style": "IPY_MODEL_e76d1ec0c31e417d9743ba4254bda113",
            "_dom_classes": [],
            "description": "",
            "_model_name": "HTMLModel",
            "placeholder": "​",
            "_view_module": "@jupyter-widgets/controls",
            "_model_module_version": "1.5.0",
            "value": " 1/1 [00:00&lt;00:00, 32.93it/s]",
            "_view_count": null,
            "_view_module_version": "1.5.0",
            "description_tooltip": null,
            "_model_module": "@jupyter-widgets/controls",
            "layout": "IPY_MODEL_073cb8373d944bbf92c180e5c2ee9751"
          }
        },
        "900ccf29f1e04be392976c093f2cdda2": {
          "model_module": "@jupyter-widgets/controls",
          "model_name": "DescriptionStyleModel",
          "model_module_version": "1.5.0",
          "state": {
            "_view_name": "StyleView",
            "_model_name": "DescriptionStyleModel",
            "description_width": "",
            "_view_module": "@jupyter-widgets/base",
            "_model_module_version": "1.5.0",
            "_view_count": null,
            "_view_module_version": "1.2.0",
            "_model_module": "@jupyter-widgets/controls"
          }
        },
        "e5aa695503d54f5787e57dd600fa32e3": {
          "model_module": "@jupyter-widgets/base",
          "model_name": "LayoutModel",
          "model_module_version": "1.2.0",
          "state": {
            "_view_name": "LayoutView",
            "grid_template_rows": null,
            "right": null,
            "justify_content": null,
            "_view_module": "@jupyter-widgets/base",
            "overflow": null,
            "_model_module_version": "1.2.0",
            "_view_count": null,
            "flex_flow": null,
            "width": null,
            "min_width": null,
            "border": null,
            "align_items": null,
            "bottom": null,
            "_model_module": "@jupyter-widgets/base",
            "top": null,
            "grid_column": null,
            "overflow_y": null,
            "overflow_x": null,
            "grid_auto_flow": null,
            "grid_area": null,
            "grid_template_columns": null,
            "flex": null,
            "_model_name": "LayoutModel",
            "justify_items": null,
            "grid_row": null,
            "max_height": null,
            "align_content": null,
            "visibility": null,
            "align_self": null,
            "height": null,
            "min_height": null,
            "padding": null,
            "grid_auto_rows": null,
            "grid_gap": null,
            "max_width": null,
            "order": null,
            "_view_module_version": "1.2.0",
            "grid_template_areas": null,
            "object_position": null,
            "object_fit": null,
            "grid_auto_columns": null,
            "margin": null,
            "display": null,
            "left": null
          }
        },
        "e4b61449e6714f75b625cc6622bcf0c7": {
          "model_module": "@jupyter-widgets/controls",
          "model_name": "ProgressStyleModel",
          "model_module_version": "1.5.0",
          "state": {
            "_view_name": "StyleView",
            "_model_name": "ProgressStyleModel",
            "description_width": "",
            "_view_module": "@jupyter-widgets/base",
            "_model_module_version": "1.5.0",
            "_view_count": null,
            "_view_module_version": "1.2.0",
            "bar_color": null,
            "_model_module": "@jupyter-widgets/controls"
          }
        },
        "1034e1395dc442ff92de775f8b6878f6": {
          "model_module": "@jupyter-widgets/base",
          "model_name": "LayoutModel",
          "model_module_version": "1.2.0",
          "state": {
            "_view_name": "LayoutView",
            "grid_template_rows": null,
            "right": null,
            "justify_content": null,
            "_view_module": "@jupyter-widgets/base",
            "overflow": null,
            "_model_module_version": "1.2.0",
            "_view_count": null,
            "flex_flow": null,
            "width": null,
            "min_width": null,
            "border": null,
            "align_items": null,
            "bottom": null,
            "_model_module": "@jupyter-widgets/base",
            "top": null,
            "grid_column": null,
            "overflow_y": null,
            "overflow_x": null,
            "grid_auto_flow": null,
            "grid_area": null,
            "grid_template_columns": null,
            "flex": null,
            "_model_name": "LayoutModel",
            "justify_items": null,
            "grid_row": null,
            "max_height": null,
            "align_content": null,
            "visibility": null,
            "align_self": null,
            "height": null,
            "min_height": null,
            "padding": null,
            "grid_auto_rows": null,
            "grid_gap": null,
            "max_width": null,
            "order": null,
            "_view_module_version": "1.2.0",
            "grid_template_areas": null,
            "object_position": null,
            "object_fit": null,
            "grid_auto_columns": null,
            "margin": null,
            "display": null,
            "left": null
          }
        },
        "e76d1ec0c31e417d9743ba4254bda113": {
          "model_module": "@jupyter-widgets/controls",
          "model_name": "DescriptionStyleModel",
          "model_module_version": "1.5.0",
          "state": {
            "_view_name": "StyleView",
            "_model_name": "DescriptionStyleModel",
            "description_width": "",
            "_view_module": "@jupyter-widgets/base",
            "_model_module_version": "1.5.0",
            "_view_count": null,
            "_view_module_version": "1.2.0",
            "_model_module": "@jupyter-widgets/controls"
          }
        },
        "073cb8373d944bbf92c180e5c2ee9751": {
          "model_module": "@jupyter-widgets/base",
          "model_name": "LayoutModel",
          "model_module_version": "1.2.0",
          "state": {
            "_view_name": "LayoutView",
            "grid_template_rows": null,
            "right": null,
            "justify_content": null,
            "_view_module": "@jupyter-widgets/base",
            "overflow": null,
            "_model_module_version": "1.2.0",
            "_view_count": null,
            "flex_flow": null,
            "width": null,
            "min_width": null,
            "border": null,
            "align_items": null,
            "bottom": null,
            "_model_module": "@jupyter-widgets/base",
            "top": null,
            "grid_column": null,
            "overflow_y": null,
            "overflow_x": null,
            "grid_auto_flow": null,
            "grid_area": null,
            "grid_template_columns": null,
            "flex": null,
            "_model_name": "LayoutModel",
            "justify_items": null,
            "grid_row": null,
            "max_height": null,
            "align_content": null,
            "visibility": null,
            "align_self": null,
            "height": null,
            "min_height": null,
            "padding": null,
            "grid_auto_rows": null,
            "grid_gap": null,
            "max_width": null,
            "order": null,
            "_view_module_version": "1.2.0",
            "grid_template_areas": null,
            "object_position": null,
            "object_fit": null,
            "grid_auto_columns": null,
            "margin": null,
            "display": null,
            "left": null
          }
        },
        "c0a1ce36f78c408eadd3a1e49f707f7e": {
          "model_module": "@jupyter-widgets/controls",
          "model_name": "HBoxModel",
          "model_module_version": "1.5.0",
          "state": {
            "_view_name": "HBoxView",
            "_dom_classes": [],
            "_model_name": "HBoxModel",
            "_view_module": "@jupyter-widgets/controls",
            "_model_module_version": "1.5.0",
            "_view_count": null,
            "_view_module_version": "1.5.0",
            "box_style": "",
            "layout": "IPY_MODEL_4d888759fdd54e628725386bd7da42af",
            "_model_module": "@jupyter-widgets/controls",
            "children": [
              "IPY_MODEL_eb7eb1822c374cf297b6fbe0461a2e79",
              "IPY_MODEL_a1824c459a164035a2a743dec0e7e0cd",
              "IPY_MODEL_a9e05b91d13946d8b6181fb5bd9fbd85"
            ]
          }
        },
        "4d888759fdd54e628725386bd7da42af": {
          "model_module": "@jupyter-widgets/base",
          "model_name": "LayoutModel",
          "model_module_version": "1.2.0",
          "state": {
            "_view_name": "LayoutView",
            "grid_template_rows": null,
            "right": null,
            "justify_content": null,
            "_view_module": "@jupyter-widgets/base",
            "overflow": null,
            "_model_module_version": "1.2.0",
            "_view_count": null,
            "flex_flow": null,
            "width": null,
            "min_width": null,
            "border": null,
            "align_items": null,
            "bottom": null,
            "_model_module": "@jupyter-widgets/base",
            "top": null,
            "grid_column": null,
            "overflow_y": null,
            "overflow_x": null,
            "grid_auto_flow": null,
            "grid_area": null,
            "grid_template_columns": null,
            "flex": null,
            "_model_name": "LayoutModel",
            "justify_items": null,
            "grid_row": null,
            "max_height": null,
            "align_content": null,
            "visibility": null,
            "align_self": null,
            "height": null,
            "min_height": null,
            "padding": null,
            "grid_auto_rows": null,
            "grid_gap": null,
            "max_width": null,
            "order": null,
            "_view_module_version": "1.2.0",
            "grid_template_areas": null,
            "object_position": null,
            "object_fit": null,
            "grid_auto_columns": null,
            "margin": null,
            "display": null,
            "left": null
          }
        },
        "eb7eb1822c374cf297b6fbe0461a2e79": {
          "model_module": "@jupyter-widgets/controls",
          "model_name": "HTMLModel",
          "model_module_version": "1.5.0",
          "state": {
            "_view_name": "HTMLView",
            "style": "IPY_MODEL_265a4e48930d454190af3cb93317ce29",
            "_dom_classes": [],
            "description": "",
            "_model_name": "HTMLModel",
            "placeholder": "​",
            "_view_module": "@jupyter-widgets/controls",
            "_model_module_version": "1.5.0",
            "value": "100%",
            "_view_count": null,
            "_view_module_version": "1.5.0",
            "description_tooltip": null,
            "_model_module": "@jupyter-widgets/controls",
            "layout": "IPY_MODEL_c64afd93acc64bdfb329826ca6edc820"
          }
        },
        "a1824c459a164035a2a743dec0e7e0cd": {
          "model_module": "@jupyter-widgets/controls",
          "model_name": "FloatProgressModel",
          "model_module_version": "1.5.0",
          "state": {
            "_view_name": "ProgressView",
            "style": "IPY_MODEL_999d71069dd74a74bbe053d0a2e1dee6",
            "_dom_classes": [],
            "description": "",
            "_model_name": "FloatProgressModel",
            "bar_style": "success",
            "max": 3,
            "_view_module": "@jupyter-widgets/controls",
            "_model_module_version": "1.5.0",
            "value": 3,
            "_view_count": null,
            "_view_module_version": "1.5.0",
            "orientation": "horizontal",
            "min": 0,
            "description_tooltip": null,
            "_model_module": "@jupyter-widgets/controls",
            "layout": "IPY_MODEL_40d23e3fe5ff4a12abdc5a56af5783cf"
          }
        },
        "a9e05b91d13946d8b6181fb5bd9fbd85": {
          "model_module": "@jupyter-widgets/controls",
          "model_name": "HTMLModel",
          "model_module_version": "1.5.0",
          "state": {
            "_view_name": "HTMLView",
            "style": "IPY_MODEL_8bd7377a720840df9dc505febe4da586",
            "_dom_classes": [],
            "description": "",
            "_model_name": "HTMLModel",
            "placeholder": "​",
            "_view_module": "@jupyter-widgets/controls",
            "_model_module_version": "1.5.0",
            "value": " 3/3 [00:00&lt;00:00, 47.00ba/s]",
            "_view_count": null,
            "_view_module_version": "1.5.0",
            "description_tooltip": null,
            "_model_module": "@jupyter-widgets/controls",
            "layout": "IPY_MODEL_9f600cade1db4b21bf86511c8fda3fa4"
          }
        },
        "265a4e48930d454190af3cb93317ce29": {
          "model_module": "@jupyter-widgets/controls",
          "model_name": "DescriptionStyleModel",
          "model_module_version": "1.5.0",
          "state": {
            "_view_name": "StyleView",
            "_model_name": "DescriptionStyleModel",
            "description_width": "",
            "_view_module": "@jupyter-widgets/base",
            "_model_module_version": "1.5.0",
            "_view_count": null,
            "_view_module_version": "1.2.0",
            "_model_module": "@jupyter-widgets/controls"
          }
        },
        "c64afd93acc64bdfb329826ca6edc820": {
          "model_module": "@jupyter-widgets/base",
          "model_name": "LayoutModel",
          "model_module_version": "1.2.0",
          "state": {
            "_view_name": "LayoutView",
            "grid_template_rows": null,
            "right": null,
            "justify_content": null,
            "_view_module": "@jupyter-widgets/base",
            "overflow": null,
            "_model_module_version": "1.2.0",
            "_view_count": null,
            "flex_flow": null,
            "width": null,
            "min_width": null,
            "border": null,
            "align_items": null,
            "bottom": null,
            "_model_module": "@jupyter-widgets/base",
            "top": null,
            "grid_column": null,
            "overflow_y": null,
            "overflow_x": null,
            "grid_auto_flow": null,
            "grid_area": null,
            "grid_template_columns": null,
            "flex": null,
            "_model_name": "LayoutModel",
            "justify_items": null,
            "grid_row": null,
            "max_height": null,
            "align_content": null,
            "visibility": null,
            "align_self": null,
            "height": null,
            "min_height": null,
            "padding": null,
            "grid_auto_rows": null,
            "grid_gap": null,
            "max_width": null,
            "order": null,
            "_view_module_version": "1.2.0",
            "grid_template_areas": null,
            "object_position": null,
            "object_fit": null,
            "grid_auto_columns": null,
            "margin": null,
            "display": null,
            "left": null
          }
        },
        "999d71069dd74a74bbe053d0a2e1dee6": {
          "model_module": "@jupyter-widgets/controls",
          "model_name": "ProgressStyleModel",
          "model_module_version": "1.5.0",
          "state": {
            "_view_name": "StyleView",
            "_model_name": "ProgressStyleModel",
            "description_width": "",
            "_view_module": "@jupyter-widgets/base",
            "_model_module_version": "1.5.0",
            "_view_count": null,
            "_view_module_version": "1.2.0",
            "bar_color": null,
            "_model_module": "@jupyter-widgets/controls"
          }
        },
        "40d23e3fe5ff4a12abdc5a56af5783cf": {
          "model_module": "@jupyter-widgets/base",
          "model_name": "LayoutModel",
          "model_module_version": "1.2.0",
          "state": {
            "_view_name": "LayoutView",
            "grid_template_rows": null,
            "right": null,
            "justify_content": null,
            "_view_module": "@jupyter-widgets/base",
            "overflow": null,
            "_model_module_version": "1.2.0",
            "_view_count": null,
            "flex_flow": null,
            "width": null,
            "min_width": null,
            "border": null,
            "align_items": null,
            "bottom": null,
            "_model_module": "@jupyter-widgets/base",
            "top": null,
            "grid_column": null,
            "overflow_y": null,
            "overflow_x": null,
            "grid_auto_flow": null,
            "grid_area": null,
            "grid_template_columns": null,
            "flex": null,
            "_model_name": "LayoutModel",
            "justify_items": null,
            "grid_row": null,
            "max_height": null,
            "align_content": null,
            "visibility": null,
            "align_self": null,
            "height": null,
            "min_height": null,
            "padding": null,
            "grid_auto_rows": null,
            "grid_gap": null,
            "max_width": null,
            "order": null,
            "_view_module_version": "1.2.0",
            "grid_template_areas": null,
            "object_position": null,
            "object_fit": null,
            "grid_auto_columns": null,
            "margin": null,
            "display": null,
            "left": null
          }
        },
        "8bd7377a720840df9dc505febe4da586": {
          "model_module": "@jupyter-widgets/controls",
          "model_name": "DescriptionStyleModel",
          "model_module_version": "1.5.0",
          "state": {
            "_view_name": "StyleView",
            "_model_name": "DescriptionStyleModel",
            "description_width": "",
            "_view_module": "@jupyter-widgets/base",
            "_model_module_version": "1.5.0",
            "_view_count": null,
            "_view_module_version": "1.2.0",
            "_model_module": "@jupyter-widgets/controls"
          }
        },
        "9f600cade1db4b21bf86511c8fda3fa4": {
          "model_module": "@jupyter-widgets/base",
          "model_name": "LayoutModel",
          "model_module_version": "1.2.0",
          "state": {
            "_view_name": "LayoutView",
            "grid_template_rows": null,
            "right": null,
            "justify_content": null,
            "_view_module": "@jupyter-widgets/base",
            "overflow": null,
            "_model_module_version": "1.2.0",
            "_view_count": null,
            "flex_flow": null,
            "width": null,
            "min_width": null,
            "border": null,
            "align_items": null,
            "bottom": null,
            "_model_module": "@jupyter-widgets/base",
            "top": null,
            "grid_column": null,
            "overflow_y": null,
            "overflow_x": null,
            "grid_auto_flow": null,
            "grid_area": null,
            "grid_template_columns": null,
            "flex": null,
            "_model_name": "LayoutModel",
            "justify_items": null,
            "grid_row": null,
            "max_height": null,
            "align_content": null,
            "visibility": null,
            "align_self": null,
            "height": null,
            "min_height": null,
            "padding": null,
            "grid_auto_rows": null,
            "grid_gap": null,
            "max_width": null,
            "order": null,
            "_view_module_version": "1.2.0",
            "grid_template_areas": null,
            "object_position": null,
            "object_fit": null,
            "grid_auto_columns": null,
            "margin": null,
            "display": null,
            "left": null
          }
        },
        "443865b47bd44372844c4f0b8ac9f22c": {
          "model_module": "@jupyter-widgets/controls",
          "model_name": "HBoxModel",
          "model_module_version": "1.5.0",
          "state": {
            "_view_name": "HBoxView",
            "_dom_classes": [],
            "_model_name": "HBoxModel",
            "_view_module": "@jupyter-widgets/controls",
            "_model_module_version": "1.5.0",
            "_view_count": null,
            "_view_module_version": "1.5.0",
            "box_style": "",
            "layout": "IPY_MODEL_4c087a57c4f8439e9232e68cbec251b0",
            "_model_module": "@jupyter-widgets/controls",
            "children": [
              "IPY_MODEL_e8517ec347dd41bda76953ed326d95dd",
              "IPY_MODEL_06d5a0a7fcb840d79561985ce49c510e",
              "IPY_MODEL_2a7961babdcf4ea8b2d12682de917d74"
            ]
          }
        },
        "4c087a57c4f8439e9232e68cbec251b0": {
          "model_module": "@jupyter-widgets/base",
          "model_name": "LayoutModel",
          "model_module_version": "1.2.0",
          "state": {
            "_view_name": "LayoutView",
            "grid_template_rows": null,
            "right": null,
            "justify_content": null,
            "_view_module": "@jupyter-widgets/base",
            "overflow": null,
            "_model_module_version": "1.2.0",
            "_view_count": null,
            "flex_flow": null,
            "width": null,
            "min_width": null,
            "border": null,
            "align_items": null,
            "bottom": null,
            "_model_module": "@jupyter-widgets/base",
            "top": null,
            "grid_column": null,
            "overflow_y": null,
            "overflow_x": null,
            "grid_auto_flow": null,
            "grid_area": null,
            "grid_template_columns": null,
            "flex": null,
            "_model_name": "LayoutModel",
            "justify_items": null,
            "grid_row": null,
            "max_height": null,
            "align_content": null,
            "visibility": null,
            "align_self": null,
            "height": null,
            "min_height": null,
            "padding": null,
            "grid_auto_rows": null,
            "grid_gap": null,
            "max_width": null,
            "order": null,
            "_view_module_version": "1.2.0",
            "grid_template_areas": null,
            "object_position": null,
            "object_fit": null,
            "grid_auto_columns": null,
            "margin": null,
            "display": null,
            "left": null
          }
        },
        "e8517ec347dd41bda76953ed326d95dd": {
          "model_module": "@jupyter-widgets/controls",
          "model_name": "HTMLModel",
          "model_module_version": "1.5.0",
          "state": {
            "_view_name": "HTMLView",
            "style": "IPY_MODEL_6639ef7702574350b24622d318f315c5",
            "_dom_classes": [],
            "description": "",
            "_model_name": "HTMLModel",
            "placeholder": "​",
            "_view_module": "@jupyter-widgets/controls",
            "_model_module_version": "1.5.0",
            "value": "100%",
            "_view_count": null,
            "_view_module_version": "1.5.0",
            "description_tooltip": null,
            "_model_module": "@jupyter-widgets/controls",
            "layout": "IPY_MODEL_f1bd635ef42d4df5acf4b54cc6f926d1"
          }
        },
        "06d5a0a7fcb840d79561985ce49c510e": {
          "model_module": "@jupyter-widgets/controls",
          "model_name": "FloatProgressModel",
          "model_module_version": "1.5.0",
          "state": {
            "_view_name": "ProgressView",
            "style": "IPY_MODEL_e8a49a1cf6e24e7f9cc61318271ef39c",
            "_dom_classes": [],
            "description": "",
            "_model_name": "FloatProgressModel",
            "bar_style": "success",
            "max": 1,
            "_view_module": "@jupyter-widgets/controls",
            "_model_module_version": "1.5.0",
            "value": 1,
            "_view_count": null,
            "_view_module_version": "1.5.0",
            "orientation": "horizontal",
            "min": 0,
            "description_tooltip": null,
            "_model_module": "@jupyter-widgets/controls",
            "layout": "IPY_MODEL_6ba7b1a1456d45c5a75580d03c220a52"
          }
        },
        "2a7961babdcf4ea8b2d12682de917d74": {
          "model_module": "@jupyter-widgets/controls",
          "model_name": "HTMLModel",
          "model_module_version": "1.5.0",
          "state": {
            "_view_name": "HTMLView",
            "style": "IPY_MODEL_cc9562861aba4d00973ebc675c3dbf43",
            "_dom_classes": [],
            "description": "",
            "_model_name": "HTMLModel",
            "placeholder": "​",
            "_view_module": "@jupyter-widgets/controls",
            "_model_module_version": "1.5.0",
            "value": " 1/1 [00:00&lt;00:00, 31.94ba/s]",
            "_view_count": null,
            "_view_module_version": "1.5.0",
            "description_tooltip": null,
            "_model_module": "@jupyter-widgets/controls",
            "layout": "IPY_MODEL_bc1131d89a0044cf9286f2060fcd55c3"
          }
        },
        "6639ef7702574350b24622d318f315c5": {
          "model_module": "@jupyter-widgets/controls",
          "model_name": "DescriptionStyleModel",
          "model_module_version": "1.5.0",
          "state": {
            "_view_name": "StyleView",
            "_model_name": "DescriptionStyleModel",
            "description_width": "",
            "_view_module": "@jupyter-widgets/base",
            "_model_module_version": "1.5.0",
            "_view_count": null,
            "_view_module_version": "1.2.0",
            "_model_module": "@jupyter-widgets/controls"
          }
        },
        "f1bd635ef42d4df5acf4b54cc6f926d1": {
          "model_module": "@jupyter-widgets/base",
          "model_name": "LayoutModel",
          "model_module_version": "1.2.0",
          "state": {
            "_view_name": "LayoutView",
            "grid_template_rows": null,
            "right": null,
            "justify_content": null,
            "_view_module": "@jupyter-widgets/base",
            "overflow": null,
            "_model_module_version": "1.2.0",
            "_view_count": null,
            "flex_flow": null,
            "width": null,
            "min_width": null,
            "border": null,
            "align_items": null,
            "bottom": null,
            "_model_module": "@jupyter-widgets/base",
            "top": null,
            "grid_column": null,
            "overflow_y": null,
            "overflow_x": null,
            "grid_auto_flow": null,
            "grid_area": null,
            "grid_template_columns": null,
            "flex": null,
            "_model_name": "LayoutModel",
            "justify_items": null,
            "grid_row": null,
            "max_height": null,
            "align_content": null,
            "visibility": null,
            "align_self": null,
            "height": null,
            "min_height": null,
            "padding": null,
            "grid_auto_rows": null,
            "grid_gap": null,
            "max_width": null,
            "order": null,
            "_view_module_version": "1.2.0",
            "grid_template_areas": null,
            "object_position": null,
            "object_fit": null,
            "grid_auto_columns": null,
            "margin": null,
            "display": null,
            "left": null
          }
        },
        "e8a49a1cf6e24e7f9cc61318271ef39c": {
          "model_module": "@jupyter-widgets/controls",
          "model_name": "ProgressStyleModel",
          "model_module_version": "1.5.0",
          "state": {
            "_view_name": "StyleView",
            "_model_name": "ProgressStyleModel",
            "description_width": "",
            "_view_module": "@jupyter-widgets/base",
            "_model_module_version": "1.5.0",
            "_view_count": null,
            "_view_module_version": "1.2.0",
            "bar_color": null,
            "_model_module": "@jupyter-widgets/controls"
          }
        },
        "6ba7b1a1456d45c5a75580d03c220a52": {
          "model_module": "@jupyter-widgets/base",
          "model_name": "LayoutModel",
          "model_module_version": "1.2.0",
          "state": {
            "_view_name": "LayoutView",
            "grid_template_rows": null,
            "right": null,
            "justify_content": null,
            "_view_module": "@jupyter-widgets/base",
            "overflow": null,
            "_model_module_version": "1.2.0",
            "_view_count": null,
            "flex_flow": null,
            "width": null,
            "min_width": null,
            "border": null,
            "align_items": null,
            "bottom": null,
            "_model_module": "@jupyter-widgets/base",
            "top": null,
            "grid_column": null,
            "overflow_y": null,
            "overflow_x": null,
            "grid_auto_flow": null,
            "grid_area": null,
            "grid_template_columns": null,
            "flex": null,
            "_model_name": "LayoutModel",
            "justify_items": null,
            "grid_row": null,
            "max_height": null,
            "align_content": null,
            "visibility": null,
            "align_self": null,
            "height": null,
            "min_height": null,
            "padding": null,
            "grid_auto_rows": null,
            "grid_gap": null,
            "max_width": null,
            "order": null,
            "_view_module_version": "1.2.0",
            "grid_template_areas": null,
            "object_position": null,
            "object_fit": null,
            "grid_auto_columns": null,
            "margin": null,
            "display": null,
            "left": null
          }
        },
        "cc9562861aba4d00973ebc675c3dbf43": {
          "model_module": "@jupyter-widgets/controls",
          "model_name": "DescriptionStyleModel",
          "model_module_version": "1.5.0",
          "state": {
            "_view_name": "StyleView",
            "_model_name": "DescriptionStyleModel",
            "description_width": "",
            "_view_module": "@jupyter-widgets/base",
            "_model_module_version": "1.5.0",
            "_view_count": null,
            "_view_module_version": "1.2.0",
            "_model_module": "@jupyter-widgets/controls"
          }
        },
        "bc1131d89a0044cf9286f2060fcd55c3": {
          "model_module": "@jupyter-widgets/base",
          "model_name": "LayoutModel",
          "model_module_version": "1.2.0",
          "state": {
            "_view_name": "LayoutView",
            "grid_template_rows": null,
            "right": null,
            "justify_content": null,
            "_view_module": "@jupyter-widgets/base",
            "overflow": null,
            "_model_module_version": "1.2.0",
            "_view_count": null,
            "flex_flow": null,
            "width": null,
            "min_width": null,
            "border": null,
            "align_items": null,
            "bottom": null,
            "_model_module": "@jupyter-widgets/base",
            "top": null,
            "grid_column": null,
            "overflow_y": null,
            "overflow_x": null,
            "grid_auto_flow": null,
            "grid_area": null,
            "grid_template_columns": null,
            "flex": null,
            "_model_name": "LayoutModel",
            "justify_items": null,
            "grid_row": null,
            "max_height": null,
            "align_content": null,
            "visibility": null,
            "align_self": null,
            "height": null,
            "min_height": null,
            "padding": null,
            "grid_auto_rows": null,
            "grid_gap": null,
            "max_width": null,
            "order": null,
            "_view_module_version": "1.2.0",
            "grid_template_areas": null,
            "object_position": null,
            "object_fit": null,
            "grid_auto_columns": null,
            "margin": null,
            "display": null,
            "left": null
          }
        },
        "72ff9010bada48ea8b242bde3e0ee5b9": {
          "model_module": "@jupyter-widgets/controls",
          "model_name": "HBoxModel",
          "model_module_version": "1.5.0",
          "state": {
            "_view_name": "HBoxView",
            "_dom_classes": [],
            "_model_name": "HBoxModel",
            "_view_module": "@jupyter-widgets/controls",
            "_model_module_version": "1.5.0",
            "_view_count": null,
            "_view_module_version": "1.5.0",
            "box_style": "",
            "layout": "IPY_MODEL_43fec61d0fe24a14b4001dd92a1ee4b6",
            "_model_module": "@jupyter-widgets/controls",
            "children": [
              "IPY_MODEL_341b46bf46094892bfc71bb382b4cae3",
              "IPY_MODEL_8db8fa1ad88345e19e65565864f288b4",
              "IPY_MODEL_a6ab7e0020af4a9aa1608d9a9c17a5ee"
            ]
          }
        },
        "43fec61d0fe24a14b4001dd92a1ee4b6": {
          "model_module": "@jupyter-widgets/base",
          "model_name": "LayoutModel",
          "model_module_version": "1.2.0",
          "state": {
            "_view_name": "LayoutView",
            "grid_template_rows": null,
            "right": null,
            "justify_content": null,
            "_view_module": "@jupyter-widgets/base",
            "overflow": null,
            "_model_module_version": "1.2.0",
            "_view_count": null,
            "flex_flow": null,
            "width": null,
            "min_width": null,
            "border": null,
            "align_items": null,
            "bottom": null,
            "_model_module": "@jupyter-widgets/base",
            "top": null,
            "grid_column": null,
            "overflow_y": null,
            "overflow_x": null,
            "grid_auto_flow": null,
            "grid_area": null,
            "grid_template_columns": null,
            "flex": null,
            "_model_name": "LayoutModel",
            "justify_items": null,
            "grid_row": null,
            "max_height": null,
            "align_content": null,
            "visibility": null,
            "align_self": null,
            "height": null,
            "min_height": null,
            "padding": null,
            "grid_auto_rows": null,
            "grid_gap": null,
            "max_width": null,
            "order": null,
            "_view_module_version": "1.2.0",
            "grid_template_areas": null,
            "object_position": null,
            "object_fit": null,
            "grid_auto_columns": null,
            "margin": null,
            "display": null,
            "left": null
          }
        },
        "341b46bf46094892bfc71bb382b4cae3": {
          "model_module": "@jupyter-widgets/controls",
          "model_name": "HTMLModel",
          "model_module_version": "1.5.0",
          "state": {
            "_view_name": "HTMLView",
            "style": "IPY_MODEL_ebf611e672a5433ab5a16c09d3fb3a2a",
            "_dom_classes": [],
            "description": "",
            "_model_name": "HTMLModel",
            "placeholder": "​",
            "_view_module": "@jupyter-widgets/controls",
            "_model_module_version": "1.5.0",
            "value": "100%",
            "_view_count": null,
            "_view_module_version": "1.5.0",
            "description_tooltip": null,
            "_model_module": "@jupyter-widgets/controls",
            "layout": "IPY_MODEL_bf35ae48679341afac02618c34e616a5"
          }
        },
        "8db8fa1ad88345e19e65565864f288b4": {
          "model_module": "@jupyter-widgets/controls",
          "model_name": "FloatProgressModel",
          "model_module_version": "1.5.0",
          "state": {
            "_view_name": "ProgressView",
            "style": "IPY_MODEL_c64309a765674e9fa5b9eed736fe7f84",
            "_dom_classes": [],
            "description": "",
            "_model_name": "FloatProgressModel",
            "bar_style": "success",
            "max": 3,
            "_view_module": "@jupyter-widgets/controls",
            "_model_module_version": "1.5.0",
            "value": 3,
            "_view_count": null,
            "_view_module_version": "1.5.0",
            "orientation": "horizontal",
            "min": 0,
            "description_tooltip": null,
            "_model_module": "@jupyter-widgets/controls",
            "layout": "IPY_MODEL_98cc38cade26436990874a113316c5e6"
          }
        },
        "a6ab7e0020af4a9aa1608d9a9c17a5ee": {
          "model_module": "@jupyter-widgets/controls",
          "model_name": "HTMLModel",
          "model_module_version": "1.5.0",
          "state": {
            "_view_name": "HTMLView",
            "style": "IPY_MODEL_965e334ff14b4b7489ddbab750003633",
            "_dom_classes": [],
            "description": "",
            "_model_name": "HTMLModel",
            "placeholder": "​",
            "_view_module": "@jupyter-widgets/controls",
            "_model_module_version": "1.5.0",
            "value": " 3/3 [00:00&lt;00:00,  3.50ba/s]",
            "_view_count": null,
            "_view_module_version": "1.5.0",
            "description_tooltip": null,
            "_model_module": "@jupyter-widgets/controls",
            "layout": "IPY_MODEL_2e3b6ec7c8274d5786a5f61e209fea81"
          }
        },
        "ebf611e672a5433ab5a16c09d3fb3a2a": {
          "model_module": "@jupyter-widgets/controls",
          "model_name": "DescriptionStyleModel",
          "model_module_version": "1.5.0",
          "state": {
            "_view_name": "StyleView",
            "_model_name": "DescriptionStyleModel",
            "description_width": "",
            "_view_module": "@jupyter-widgets/base",
            "_model_module_version": "1.5.0",
            "_view_count": null,
            "_view_module_version": "1.2.0",
            "_model_module": "@jupyter-widgets/controls"
          }
        },
        "bf35ae48679341afac02618c34e616a5": {
          "model_module": "@jupyter-widgets/base",
          "model_name": "LayoutModel",
          "model_module_version": "1.2.0",
          "state": {
            "_view_name": "LayoutView",
            "grid_template_rows": null,
            "right": null,
            "justify_content": null,
            "_view_module": "@jupyter-widgets/base",
            "overflow": null,
            "_model_module_version": "1.2.0",
            "_view_count": null,
            "flex_flow": null,
            "width": null,
            "min_width": null,
            "border": null,
            "align_items": null,
            "bottom": null,
            "_model_module": "@jupyter-widgets/base",
            "top": null,
            "grid_column": null,
            "overflow_y": null,
            "overflow_x": null,
            "grid_auto_flow": null,
            "grid_area": null,
            "grid_template_columns": null,
            "flex": null,
            "_model_name": "LayoutModel",
            "justify_items": null,
            "grid_row": null,
            "max_height": null,
            "align_content": null,
            "visibility": null,
            "align_self": null,
            "height": null,
            "min_height": null,
            "padding": null,
            "grid_auto_rows": null,
            "grid_gap": null,
            "max_width": null,
            "order": null,
            "_view_module_version": "1.2.0",
            "grid_template_areas": null,
            "object_position": null,
            "object_fit": null,
            "grid_auto_columns": null,
            "margin": null,
            "display": null,
            "left": null
          }
        },
        "c64309a765674e9fa5b9eed736fe7f84": {
          "model_module": "@jupyter-widgets/controls",
          "model_name": "ProgressStyleModel",
          "model_module_version": "1.5.0",
          "state": {
            "_view_name": "StyleView",
            "_model_name": "ProgressStyleModel",
            "description_width": "",
            "_view_module": "@jupyter-widgets/base",
            "_model_module_version": "1.5.0",
            "_view_count": null,
            "_view_module_version": "1.2.0",
            "bar_color": null,
            "_model_module": "@jupyter-widgets/controls"
          }
        },
        "98cc38cade26436990874a113316c5e6": {
          "model_module": "@jupyter-widgets/base",
          "model_name": "LayoutModel",
          "model_module_version": "1.2.0",
          "state": {
            "_view_name": "LayoutView",
            "grid_template_rows": null,
            "right": null,
            "justify_content": null,
            "_view_module": "@jupyter-widgets/base",
            "overflow": null,
            "_model_module_version": "1.2.0",
            "_view_count": null,
            "flex_flow": null,
            "width": null,
            "min_width": null,
            "border": null,
            "align_items": null,
            "bottom": null,
            "_model_module": "@jupyter-widgets/base",
            "top": null,
            "grid_column": null,
            "overflow_y": null,
            "overflow_x": null,
            "grid_auto_flow": null,
            "grid_area": null,
            "grid_template_columns": null,
            "flex": null,
            "_model_name": "LayoutModel",
            "justify_items": null,
            "grid_row": null,
            "max_height": null,
            "align_content": null,
            "visibility": null,
            "align_self": null,
            "height": null,
            "min_height": null,
            "padding": null,
            "grid_auto_rows": null,
            "grid_gap": null,
            "max_width": null,
            "order": null,
            "_view_module_version": "1.2.0",
            "grid_template_areas": null,
            "object_position": null,
            "object_fit": null,
            "grid_auto_columns": null,
            "margin": null,
            "display": null,
            "left": null
          }
        },
        "965e334ff14b4b7489ddbab750003633": {
          "model_module": "@jupyter-widgets/controls",
          "model_name": "DescriptionStyleModel",
          "model_module_version": "1.5.0",
          "state": {
            "_view_name": "StyleView",
            "_model_name": "DescriptionStyleModel",
            "description_width": "",
            "_view_module": "@jupyter-widgets/base",
            "_model_module_version": "1.5.0",
            "_view_count": null,
            "_view_module_version": "1.2.0",
            "_model_module": "@jupyter-widgets/controls"
          }
        },
        "2e3b6ec7c8274d5786a5f61e209fea81": {
          "model_module": "@jupyter-widgets/base",
          "model_name": "LayoutModel",
          "model_module_version": "1.2.0",
          "state": {
            "_view_name": "LayoutView",
            "grid_template_rows": null,
            "right": null,
            "justify_content": null,
            "_view_module": "@jupyter-widgets/base",
            "overflow": null,
            "_model_module_version": "1.2.0",
            "_view_count": null,
            "flex_flow": null,
            "width": null,
            "min_width": null,
            "border": null,
            "align_items": null,
            "bottom": null,
            "_model_module": "@jupyter-widgets/base",
            "top": null,
            "grid_column": null,
            "overflow_y": null,
            "overflow_x": null,
            "grid_auto_flow": null,
            "grid_area": null,
            "grid_template_columns": null,
            "flex": null,
            "_model_name": "LayoutModel",
            "justify_items": null,
            "grid_row": null,
            "max_height": null,
            "align_content": null,
            "visibility": null,
            "align_self": null,
            "height": null,
            "min_height": null,
            "padding": null,
            "grid_auto_rows": null,
            "grid_gap": null,
            "max_width": null,
            "order": null,
            "_view_module_version": "1.2.0",
            "grid_template_areas": null,
            "object_position": null,
            "object_fit": null,
            "grid_auto_columns": null,
            "margin": null,
            "display": null,
            "left": null
          }
        },
        "8b2e7d76a80f425e98d0bf479e0d986b": {
          "model_module": "@jupyter-widgets/controls",
          "model_name": "HBoxModel",
          "model_module_version": "1.5.0",
          "state": {
            "_view_name": "HBoxView",
            "_dom_classes": [],
            "_model_name": "HBoxModel",
            "_view_module": "@jupyter-widgets/controls",
            "_model_module_version": "1.5.0",
            "_view_count": null,
            "_view_module_version": "1.5.0",
            "box_style": "",
            "layout": "IPY_MODEL_9258fb213e9a4d898dd3fb1adc461cfe",
            "_model_module": "@jupyter-widgets/controls",
            "children": [
              "IPY_MODEL_8ec9334e3916480f918bfba90fbea3d2",
              "IPY_MODEL_17634a9adacc44be8f036abcc23ffe10",
              "IPY_MODEL_d9b07b29af484c0ba7125a02368cc5e1"
            ]
          }
        },
        "9258fb213e9a4d898dd3fb1adc461cfe": {
          "model_module": "@jupyter-widgets/base",
          "model_name": "LayoutModel",
          "model_module_version": "1.2.0",
          "state": {
            "_view_name": "LayoutView",
            "grid_template_rows": null,
            "right": null,
            "justify_content": null,
            "_view_module": "@jupyter-widgets/base",
            "overflow": null,
            "_model_module_version": "1.2.0",
            "_view_count": null,
            "flex_flow": null,
            "width": null,
            "min_width": null,
            "border": null,
            "align_items": null,
            "bottom": null,
            "_model_module": "@jupyter-widgets/base",
            "top": null,
            "grid_column": null,
            "overflow_y": null,
            "overflow_x": null,
            "grid_auto_flow": null,
            "grid_area": null,
            "grid_template_columns": null,
            "flex": null,
            "_model_name": "LayoutModel",
            "justify_items": null,
            "grid_row": null,
            "max_height": null,
            "align_content": null,
            "visibility": null,
            "align_self": null,
            "height": null,
            "min_height": null,
            "padding": null,
            "grid_auto_rows": null,
            "grid_gap": null,
            "max_width": null,
            "order": null,
            "_view_module_version": "1.2.0",
            "grid_template_areas": null,
            "object_position": null,
            "object_fit": null,
            "grid_auto_columns": null,
            "margin": null,
            "display": null,
            "left": null
          }
        },
        "8ec9334e3916480f918bfba90fbea3d2": {
          "model_module": "@jupyter-widgets/controls",
          "model_name": "HTMLModel",
          "model_module_version": "1.5.0",
          "state": {
            "_view_name": "HTMLView",
            "style": "IPY_MODEL_d4122c13747548fa9340ffa2fdca739d",
            "_dom_classes": [],
            "description": "",
            "_model_name": "HTMLModel",
            "placeholder": "​",
            "_view_module": "@jupyter-widgets/controls",
            "_model_module_version": "1.5.0",
            "value": "100%",
            "_view_count": null,
            "_view_module_version": "1.5.0",
            "description_tooltip": null,
            "_model_module": "@jupyter-widgets/controls",
            "layout": "IPY_MODEL_1a81b5a1e4db4121a0dfad0e872acf2a"
          }
        },
        "17634a9adacc44be8f036abcc23ffe10": {
          "model_module": "@jupyter-widgets/controls",
          "model_name": "FloatProgressModel",
          "model_module_version": "1.5.0",
          "state": {
            "_view_name": "ProgressView",
            "style": "IPY_MODEL_27dbf893aead4253a1c20ae109bc3122",
            "_dom_classes": [],
            "description": "",
            "_model_name": "FloatProgressModel",
            "bar_style": "success",
            "max": 1,
            "_view_module": "@jupyter-widgets/controls",
            "_model_module_version": "1.5.0",
            "value": 1,
            "_view_count": null,
            "_view_module_version": "1.5.0",
            "orientation": "horizontal",
            "min": 0,
            "description_tooltip": null,
            "_model_module": "@jupyter-widgets/controls",
            "layout": "IPY_MODEL_5b5893bd8a584f6d887ac28a6b9c29d5"
          }
        },
        "d9b07b29af484c0ba7125a02368cc5e1": {
          "model_module": "@jupyter-widgets/controls",
          "model_name": "HTMLModel",
          "model_module_version": "1.5.0",
          "state": {
            "_view_name": "HTMLView",
            "style": "IPY_MODEL_4cff6e9b4b2844fd9567c6cf297addcf",
            "_dom_classes": [],
            "description": "",
            "_model_name": "HTMLModel",
            "placeholder": "​",
            "_view_module": "@jupyter-widgets/controls",
            "_model_module_version": "1.5.0",
            "value": " 1/1 [00:00&lt;00:00,  8.43ba/s]",
            "_view_count": null,
            "_view_module_version": "1.5.0",
            "description_tooltip": null,
            "_model_module": "@jupyter-widgets/controls",
            "layout": "IPY_MODEL_ecac8ef4e1a64644b1a3b75ae92d9701"
          }
        },
        "d4122c13747548fa9340ffa2fdca739d": {
          "model_module": "@jupyter-widgets/controls",
          "model_name": "DescriptionStyleModel",
          "model_module_version": "1.5.0",
          "state": {
            "_view_name": "StyleView",
            "_model_name": "DescriptionStyleModel",
            "description_width": "",
            "_view_module": "@jupyter-widgets/base",
            "_model_module_version": "1.5.0",
            "_view_count": null,
            "_view_module_version": "1.2.0",
            "_model_module": "@jupyter-widgets/controls"
          }
        },
        "1a81b5a1e4db4121a0dfad0e872acf2a": {
          "model_module": "@jupyter-widgets/base",
          "model_name": "LayoutModel",
          "model_module_version": "1.2.0",
          "state": {
            "_view_name": "LayoutView",
            "grid_template_rows": null,
            "right": null,
            "justify_content": null,
            "_view_module": "@jupyter-widgets/base",
            "overflow": null,
            "_model_module_version": "1.2.0",
            "_view_count": null,
            "flex_flow": null,
            "width": null,
            "min_width": null,
            "border": null,
            "align_items": null,
            "bottom": null,
            "_model_module": "@jupyter-widgets/base",
            "top": null,
            "grid_column": null,
            "overflow_y": null,
            "overflow_x": null,
            "grid_auto_flow": null,
            "grid_area": null,
            "grid_template_columns": null,
            "flex": null,
            "_model_name": "LayoutModel",
            "justify_items": null,
            "grid_row": null,
            "max_height": null,
            "align_content": null,
            "visibility": null,
            "align_self": null,
            "height": null,
            "min_height": null,
            "padding": null,
            "grid_auto_rows": null,
            "grid_gap": null,
            "max_width": null,
            "order": null,
            "_view_module_version": "1.2.0",
            "grid_template_areas": null,
            "object_position": null,
            "object_fit": null,
            "grid_auto_columns": null,
            "margin": null,
            "display": null,
            "left": null
          }
        },
        "27dbf893aead4253a1c20ae109bc3122": {
          "model_module": "@jupyter-widgets/controls",
          "model_name": "ProgressStyleModel",
          "model_module_version": "1.5.0",
          "state": {
            "_view_name": "StyleView",
            "_model_name": "ProgressStyleModel",
            "description_width": "",
            "_view_module": "@jupyter-widgets/base",
            "_model_module_version": "1.5.0",
            "_view_count": null,
            "_view_module_version": "1.2.0",
            "bar_color": null,
            "_model_module": "@jupyter-widgets/controls"
          }
        },
        "5b5893bd8a584f6d887ac28a6b9c29d5": {
          "model_module": "@jupyter-widgets/base",
          "model_name": "LayoutModel",
          "model_module_version": "1.2.0",
          "state": {
            "_view_name": "LayoutView",
            "grid_template_rows": null,
            "right": null,
            "justify_content": null,
            "_view_module": "@jupyter-widgets/base",
            "overflow": null,
            "_model_module_version": "1.2.0",
            "_view_count": null,
            "flex_flow": null,
            "width": null,
            "min_width": null,
            "border": null,
            "align_items": null,
            "bottom": null,
            "_model_module": "@jupyter-widgets/base",
            "top": null,
            "grid_column": null,
            "overflow_y": null,
            "overflow_x": null,
            "grid_auto_flow": null,
            "grid_area": null,
            "grid_template_columns": null,
            "flex": null,
            "_model_name": "LayoutModel",
            "justify_items": null,
            "grid_row": null,
            "max_height": null,
            "align_content": null,
            "visibility": null,
            "align_self": null,
            "height": null,
            "min_height": null,
            "padding": null,
            "grid_auto_rows": null,
            "grid_gap": null,
            "max_width": null,
            "order": null,
            "_view_module_version": "1.2.0",
            "grid_template_areas": null,
            "object_position": null,
            "object_fit": null,
            "grid_auto_columns": null,
            "margin": null,
            "display": null,
            "left": null
          }
        },
        "4cff6e9b4b2844fd9567c6cf297addcf": {
          "model_module": "@jupyter-widgets/controls",
          "model_name": "DescriptionStyleModel",
          "model_module_version": "1.5.0",
          "state": {
            "_view_name": "StyleView",
            "_model_name": "DescriptionStyleModel",
            "description_width": "",
            "_view_module": "@jupyter-widgets/base",
            "_model_module_version": "1.5.0",
            "_view_count": null,
            "_view_module_version": "1.2.0",
            "_model_module": "@jupyter-widgets/controls"
          }
        },
        "ecac8ef4e1a64644b1a3b75ae92d9701": {
          "model_module": "@jupyter-widgets/base",
          "model_name": "LayoutModel",
          "model_module_version": "1.2.0",
          "state": {
            "_view_name": "LayoutView",
            "grid_template_rows": null,
            "right": null,
            "justify_content": null,
            "_view_module": "@jupyter-widgets/base",
            "overflow": null,
            "_model_module_version": "1.2.0",
            "_view_count": null,
            "flex_flow": null,
            "width": null,
            "min_width": null,
            "border": null,
            "align_items": null,
            "bottom": null,
            "_model_module": "@jupyter-widgets/base",
            "top": null,
            "grid_column": null,
            "overflow_y": null,
            "overflow_x": null,
            "grid_auto_flow": null,
            "grid_area": null,
            "grid_template_columns": null,
            "flex": null,
            "_model_name": "LayoutModel",
            "justify_items": null,
            "grid_row": null,
            "max_height": null,
            "align_content": null,
            "visibility": null,
            "align_self": null,
            "height": null,
            "min_height": null,
            "padding": null,
            "grid_auto_rows": null,
            "grid_gap": null,
            "max_width": null,
            "order": null,
            "_view_module_version": "1.2.0",
            "grid_template_areas": null,
            "object_position": null,
            "object_fit": null,
            "grid_auto_columns": null,
            "margin": null,
            "display": null,
            "left": null
          }
        }
      }
    }
  },
  "nbformat": 4,
  "nbformat_minor": 0
}